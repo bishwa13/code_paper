{
 "cells": [
  {
   "cell_type": "code",
   "execution_count": 2,
   "metadata": {},
   "outputs": [],
   "source": [
    "import pandas as pd\n",
    "from datetime import datetime"
   ]
  },
  {
   "cell_type": "code",
   "execution_count": 3,
   "metadata": {},
   "outputs": [],
   "source": [
    "i_df_rainfall = pd.read_csv(r'F:\\work\\rudra sir\\received\\datas\\new_data\\Daily Rainfall markhugaun.csv', parse_dates=['Date'])\n",
    "i_df_temp = pd.read_csv(r'F:\\work\\rudra sir\\received\\datas\\new_data\\Daily_Temp_Daman.csv', parse_dates=['Date'])"
   ]
  },
  {
   "cell_type": "code",
   "execution_count": 4,
   "metadata": {},
   "outputs": [],
   "source": [
    "raw_dates = pd.date_range(start='1981-01-01', end='2020-12-31', freq='D')\n",
    "new_date = pd.DataFrame({'Date': raw_dates})"
   ]
  },
  {
   "cell_type": "code",
   "execution_count": 5,
   "metadata": {},
   "outputs": [],
   "source": [
    "missing_dates_temp = raw_dates[~raw_dates.isin(i_df_temp['Date'])]\n",
    "df_merged_temp = pd.merge(new_date, i_df_temp, on='Date', how='left')\n",
    "missing_dates_rainfall = raw_dates[~raw_dates.isin(i_df_rainfall['Date'])]\n",
    "df_merged_rainfall = pd.merge(new_date, i_df_rainfall, on='Date', how='left')"
   ]
  },
  {
   "cell_type": "code",
   "execution_count": 6,
   "metadata": {},
   "outputs": [
    {
     "name": "stdout",
     "output_type": "stream",
     "text": [
      "Missing rows in temperature data: 9972\n",
      "Missing rows in rainfall data: 94\n"
     ]
    }
   ],
   "source": [
    "missing_temp_count = df_merged_temp.isna().sum().sum()\n",
    "missing_rainfall_count = df_merged_rainfall.isna().sum().sum()\n",
    "\n",
    "print(f\"Missing rows in temperature data: {missing_temp_count}\")\n",
    "print(f\"Missing rows in rainfall data: {missing_rainfall_count}\")"
   ]
  },
  {
   "cell_type": "code",
   "execution_count": 9,
   "metadata": {},
   "outputs": [
    {
     "name": "stdout",
     "output_type": "stream",
     "text": [
      "            Date  Rainfall\n",
      "0     1981-01-01       0.0\n",
      "1     1981-01-02       0.0\n",
      "2     1981-01-03       0.0\n",
      "3     1981-01-04       0.0\n",
      "4     1981-01-05       0.2\n",
      "...          ...       ...\n",
      "14605 2020-12-27       0.0\n",
      "14606 2020-12-28       0.0\n",
      "14607 2020-12-29       0.0\n",
      "14608 2020-12-30       0.0\n",
      "14609 2020-12-31       0.0\n",
      "\n",
      "[14610 rows x 2 columns]\n"
     ]
    }
   ],
   "source": [
    "print(df_merged_rainfall)"
   ]
  },
  {
   "cell_type": "code",
   "execution_count": 12,
   "metadata": {},
   "outputs": [],
   "source": [
    "for col in ['Maximum', 'Minimum', 'Avg']:\n",
    "    if col not in df_merged_temp.columns:\n",
    "        df_merged_temp[col] = pd.NA\n",
    "\n",
    "rows_to_update_temp = df_merged_temp[['Maximum', 'Minimum', 'Avg']].isna().any(axis=1)\n",
    "df_merged_temp.loc[rows_to_update_temp, ['Maximum', 'Minimum', 'Avg']] = -999"
   ]
  },
  {
   "cell_type": "code",
   "execution_count": 13,
   "metadata": {},
   "outputs": [],
   "source": [
    "if 'Rainfall' not in df_merged_rainfall.columns:\n",
    "    df_merged_rainfall['Rainfall'] = pd.NA\n",
    "\n",
    "rows_to_update_rainfall = df_merged_rainfall['Rainfall'].isna()\n",
    "df_merged_rainfall.loc[rows_to_update_rainfall, 'Rainfall'] = -999 \n"
   ]
  },
  {
   "cell_type": "code",
   "execution_count": null,
   "metadata": {},
   "outputs": [],
   "source": []
  },
  {
   "cell_type": "code",
   "execution_count": 14,
   "metadata": {},
   "outputs": [],
   "source": [
    "df_merged_temp.to_csv(r'F:\\work\\rudra sir\\received\\datas\\new_data\\Daily_Temp_999.csv', index=False)\n",
    "df_merged_rainfall.to_csv(r'F:\\work\\rudra sir\\received\\datas\\new_data\\Daily_Rainfall_999.csv', index=False)"
   ]
  },
  {
   "cell_type": "code",
   "execution_count": null,
   "metadata": {},
   "outputs": [
    {
     "name": "stdout",
     "output_type": "stream",
     "text": [
      "DatetimeIndex([], dtype='datetime64[ns]', freq='D')\n"
     ]
    }
   ],
   "source": []
  },
  {
   "cell_type": "code",
   "execution_count": null,
   "metadata": {},
   "outputs": [],
   "source": []
  },
  {
   "cell_type": "code",
   "execution_count": null,
   "metadata": {},
   "outputs": [],
   "source": []
  }
 ],
 "metadata": {
  "kernelspec": {
   "display_name": "base",
   "language": "python",
   "name": "python3"
  },
  "language_info": {
   "codemirror_mode": {
    "name": "ipython",
    "version": 3
   },
   "file_extension": ".py",
   "mimetype": "text/x-python",
   "name": "python",
   "nbconvert_exporter": "python",
   "pygments_lexer": "ipython3",
   "version": "3.12.7"
  }
 },
 "nbformat": 4,
 "nbformat_minor": 2
}
