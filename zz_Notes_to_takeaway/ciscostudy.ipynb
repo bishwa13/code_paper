{
 "cells": [
  {
   "cell_type": "code",
   "execution_count": null,
   "metadata": {},
   "outputs": [],
   "source": []
  },
  {
   "cell_type": "code",
   "execution_count": 4,
   "metadata": {},
   "outputs": [
    {
     "name": "stdout",
     "output_type": "stream",
     "text": [
      "Enter a value:\n",
      "Your integer value is 4.\n"
     ]
    }
   ],
   "source": [
    "print(\"Enter a value:\")\n",
    "a = int(input())\n",
    "print(f\"Your integer value is {a}.\")"
   ]
  },
  {
   "cell_type": "code",
   "execution_count": null,
   "metadata": {},
   "outputs": [
    {
     "name": "stdout",
     "output_type": "stream",
     "text": [
      "Enter a your number: \n",
      "User number is 5\n"
     ]
    }
   ],
   "source": [
    "def user_num():\n",
    "    print(\"Enter a your number: \")\n",
    "    user_num = int(input())\n",
    "    print(f\"User number is {user_num}.\")\n",
    "\n",
    "user_num()"
   ]
  }
 ],
 "metadata": {
  "kernelspec": {
   "display_name": "jbook_env",
   "language": "python",
   "name": "python3"
  },
  "language_info": {
   "codemirror_mode": {
    "name": "ipython",
    "version": 3
   },
   "file_extension": ".py",
   "mimetype": "text/x-python",
   "name": "python",
   "nbconvert_exporter": "python",
   "pygments_lexer": "ipython3",
   "version": "3.11.9"
  }
 },
 "nbformat": 4,
 "nbformat_minor": 2
}
