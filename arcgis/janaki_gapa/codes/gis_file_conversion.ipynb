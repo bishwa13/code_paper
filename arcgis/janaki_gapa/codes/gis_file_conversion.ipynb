{
 "cells": [
  {
   "cell_type": "code",
   "execution_count": 3,
   "metadata": {},
   "outputs": [],
   "source": [
    "import geopandas as gpd\n"
   ]
  },
  {
   "cell_type": "code",
   "execution_count": 6,
   "metadata": {},
   "outputs": [
    {
     "name": "stdout",
     "output_type": "stream",
     "text": [
      "Conversion complete! GeoJSON saved to: G:\\fresh_start\\paper\\code_paper\\arcgis\\janaki_gapa\\attatchments\\janaki_gapa\\janaki_single_geojson.geojson\n"
     ]
    }
   ],
   "source": [
    "# Paths\n",
    "shp_file = r\"G:\\fresh_start\\paper\\code_paper\\arcgis\\janaki_gapa\\attatchments\\janaki_gapa\\janaki_single.shp\"\n",
    "geojson_file = r\"G:\\fresh_start\\paper\\code_paper\\arcgis\\janaki_gapa\\attatchments\\janaki_gapa\\janaki_single_geojson.geojson\"\n",
    "\n",
    "# Read and convert\n",
    "gdf = gpd.read_file(shp_file)\n",
    "gdf.to_file(geojson_file, driver='GeoJSON')\n",
    "\n",
    "print(f\"Conversion complete! GeoJSON saved to: {geojson_file}\")"
   ]
  },
  {
   "cell_type": "markdown",
   "metadata": {},
   "source": [
    "Area of Interest:\t285.93 hectare\n",
    "| Properties                        | Max Value       | Min Value       | Mean Value      | Median Value    |\n",
    "|-----------------------------------|-----------------|-----------------|-----------------|-----------------|\n",
    "| pH value                          | 7.946           | 7.250           | 7.463           | 7.457           |\n",
    "| Organic Matter                    | 2.240 %         | 1.529 %         | 1.792 %         | 1.790 %         |\n",
    "| Total Nitrogen                    | 0.114 %         | 0.076 %         | 0.089 %         | 0.090 %         |\n",
    "| Available Phosphorus (P₂O₅)       | 252.324 kg/ha   | 136.833 kg/ha   | 181.041 kg/ha   | 178.447 kg/ha   |\n",
    "| Available Potassium (K₂O)         | 466.048 kg/ha   | 271.182 kg/ha   | 356.231 kg/ha   | 353.577 kg/ha   |\n",
    "\n",
    "Soil Properties\n",
    "Properties\tMax Value\tMin Value\tMean Value\tMedian Value\n",
    "pH value:\t7.946\t7.250\t7.463\t7.457\n",
    "Organic Matter:\t2.240 %\t1.529 %\t1.792 %\t1.790 %\n",
    "Total Nitrogen:\t0.114 %\t0.076 %\t0.089 %\t0.090 %\n",
    "Available Phosphorus (P2O5):\t252.324kg/ha\t136.833 kg/ha\t181.041 kg/ha\t178.447 kg/ha\n",
    "Available Potassium (K2O):\t466.048 kg/ha\t271.182 kg/ha\t356.231 kg/ha\t353.577 kg/ha\n",
    "\n"
   ]
  },
  {
   "cell_type": "code",
   "execution_count": null,
   "metadata": {},
   "outputs": [],
   "source": []
  },
  {
   "cell_type": "code",
   "execution_count": null,
   "metadata": {},
   "outputs": [],
   "source": []
  }
 ],
 "metadata": {
  "kernelspec": {
   "display_name": "code_paper",
   "language": "python",
   "name": "python3"
  },
  "language_info": {
   "codemirror_mode": {
    "name": "ipython",
    "version": 3
   },
   "file_extension": ".py",
   "mimetype": "text/x-python",
   "name": "python",
   "nbconvert_exporter": "python",
   "pygments_lexer": "ipython3",
   "version": "3.13.2"
  }
 },
 "nbformat": 4,
 "nbformat_minor": 2
}
