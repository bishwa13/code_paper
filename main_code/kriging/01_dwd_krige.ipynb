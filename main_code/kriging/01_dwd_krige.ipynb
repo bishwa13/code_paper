{
  "cells": [
    {
      "cell_type": "markdown",
      "metadata": {},
      "source": [
        "\n# Kriging geographical data\n\nIn this example we are going to interpolate actual temperature data from\nthe German weather service [DWD](https://www.dwd.de/EN).\n\nData is retrieved utilizing the beautiful package\n[wetterdienst](https://github.com/earthobservations/wetterdienst),\nwhich serves as an API for the DWD data.\n\nFor better visualization, we also download a simple shapefile of the German\nborderline with [cartopy](https://github.com/SciTools/cartopy).\n\nIn order to keep the number of dependecies low, the calls of both functions\nshown beneath are commented out.\n"
      ]
    },
    {
      "cell_type": "code",
      "execution_count": null,
      "metadata": {
        "collapsed": false
      },
      "outputs": [],
      "source": [
        "import matplotlib.pyplot as plt\nimport numpy as np\n\nimport gstools as gs\n\n\ndef get_borders_germany():\n    \"\"\"Download simple german shape file with cartopy.\"\"\"\n    import geopandas as gp  # 0.8.1\n    from cartopy.io import shapereader as shp_read  # version 0.18.0\n\n    shpfile = shp_read.natural_earth(\"50m\", \"cultural\", \"admin_0_countries\")\n    df = gp.read_file(shpfile)  # only use the simplest polygon\n    poly = df.loc[df[\"ADMIN\"] == \"Germany\"][\"geometry\"].values[0][0]\n    np.savetxt(\"de_borders.txt\", list(poly.exterior.coords))\n\n\ndef get_dwd_temperature(date=\"2020-06-09 12:00:00\"):\n    \"\"\"Get air temperature from german weather stations from 9.6.20 12:00.\"\"\"\n    from wetterdienst.dwd import observations as obs  # version 0.13.0\n\n    settings = dict(\n        resolution=obs.DWDObservationResolution.HOURLY,\n        start_date=date,\n        end_date=date,\n    )\n    sites = obs.DWDObservationStations(\n        parameter_set=obs.DWDObservationParameterSet.TEMPERATURE_AIR,\n        period=obs.DWDObservationPeriod.RECENT,\n        **settings,\n    )\n    ids, lat, lon = sites.all().loc[:, [\"STATION_ID\", \"LAT\", \"LON\"]].values.T\n    observations = obs.DWDObservationData(\n        station_ids=ids,\n        parameters=obs.DWDObservationParameter.HOURLY.TEMPERATURE_AIR_200,\n        periods=obs.DWDObservationPeriod.RECENT,\n        **settings,\n    )\n    temp = observations.all().VALUE.values\n    sel = np.isfinite(temp)\n    # select only valid temperature data\n    ids, lat, lon, temp = ids.astype(float)[sel], lat[sel], lon[sel], temp[sel]\n    head = \"id, lat, lon, temp\"  # add a header to the file\n    np.savetxt(\"temp_obs.txt\", np.array([ids, lat, lon, temp]).T, header=head)"
      ]
    },
    {
      "cell_type": "markdown",
      "metadata": {},
      "source": [
        "If you want to download the data again,\nuncomment the two following lines. We will simply load the resulting\nfiles to gain the border polygon and the observed temperature along with\nthe station locations given by lat-lon values.\n\n"
      ]
    },
    {
      "cell_type": "code",
      "execution_count": null,
      "metadata": {
        "collapsed": false
      },
      "outputs": [],
      "source": [
        "# get_borders_germany()\n# get_dwd_temperature(date=\"2020-06-09 12:00:00\")\n\nborder = np.loadtxt(\"de_borders.txt\")\nids, lat, lon, temp = np.loadtxt(\"temp_obs.txt\").T"
      ]
    },
    {
      "cell_type": "markdown",
      "metadata": {},
      "source": [
        "First we will estimate the variogram of our temperature data.\nAs the maximal bin distance we choose 900 km.\n\n"
      ]
    },
    {
      "cell_type": "code",
      "execution_count": null,
      "metadata": {
        "collapsed": false
      },
      "outputs": [],
      "source": [
        "bin_center, vario = gs.vario_estimate(\n    (lat, lon), temp, latlon=True, geo_scale=gs.KM_SCALE, max_dist=900\n)"
      ]
    },
    {
      "cell_type": "markdown",
      "metadata": {},
      "source": [
        "Now we can use this estimated variogram to fit a model to it.\nHere we will use a :any:`Spherical` model. We select the ``latlon`` option\nto use the `Yadrenko` variant of the model to gain a valid model for lat-lon\ncoordinates and we set the ``geo_scale`` to the earth-radius. Otherwise the length\nscale would be given in radians representing the great-circle distance.\n\nWe deselect the nugget from fitting and plot the result afterwards.\n\n<div class=\"alert alert-info\"><h4>Note</h4><p>You need to plot the Yadrenko variogram, since the standard variogram\n   still holds the ordinary routine that is not respecting the great-circle\n   distance.</p></div>\n\n"
      ]
    },
    {
      "cell_type": "code",
      "execution_count": null,
      "metadata": {
        "collapsed": false
      },
      "outputs": [],
      "source": [
        "model = gs.Spherical(latlon=True, geo_scale=gs.KM_SCALE)\nmodel.fit_variogram(bin_center, vario, nugget=False)\nax = model.plot(\"vario_yadrenko\", x_max=max(bin_center))\nax.scatter(bin_center, vario)\nprint(model)"
      ]
    },
    {
      "cell_type": "markdown",
      "metadata": {},
      "source": [
        "As we see, we have a rather large correlation length of 600 km.\n\nNow we want to interpolate the data using :any:`Universal` kriging.\nIn order to tinker around with the data, we will use a north-south drift\nby assuming a linear correlation with the latitude.\nThis can be done as follows:\n\n"
      ]
    },
    {
      "cell_type": "code",
      "execution_count": null,
      "metadata": {
        "collapsed": false
      },
      "outputs": [],
      "source": [
        "def north_south_drift(lat, lon):\n    return lat\n\n\nuk = gs.krige.Universal(\n    model=model,\n    cond_pos=(lat, lon),\n    cond_val=temp,\n    drift_functions=north_south_drift,\n)"
      ]
    },
    {
      "cell_type": "markdown",
      "metadata": {},
      "source": [
        "Now we generate the kriging field, by defining a lat-lon grid that covers\nthe whole of Germany. The :any:`Krige` class provides the option to only\nkrige the mean field, so one can have a glimpse at the estimated drift.\n\n"
      ]
    },
    {
      "cell_type": "code",
      "execution_count": null,
      "metadata": {
        "collapsed": false
      },
      "outputs": [],
      "source": [
        "g_lat = np.arange(47, 56.1, 0.1)\ng_lon = np.arange(5, 16.1, 0.1)\n\nuk.set_pos((g_lat, g_lon), mesh_type=\"structured\")\nuk(return_var=False, store=\"temp_field\")\nuk(only_mean=True, store=\"mean_field\")"
      ]
    },
    {
      "cell_type": "markdown",
      "metadata": {},
      "source": [
        "And that's it. Now let's have a look at the generated field and the input\ndata along with the estimated mean:\n\n"
      ]
    },
    {
      "cell_type": "code",
      "execution_count": null,
      "metadata": {
        "collapsed": false
      },
      "outputs": [],
      "source": [
        "levels = np.linspace(5, 23, 64)\nfig, ax = plt.subplots(1, 3, figsize=[10, 5], sharey=True)\nsca = ax[0].scatter(lon, lat, c=temp, vmin=5, vmax=23, cmap=\"coolwarm\")\nco1 = ax[1].contourf(g_lon, g_lat, uk[\"temp_field\"], levels, cmap=\"coolwarm\")\nco2 = ax[2].contourf(g_lon, g_lat, uk[\"mean_field\"], levels, cmap=\"coolwarm\")\n\n[ax[i].plot(border[:, 0], border[:, 1], color=\"k\") for i in range(3)]\n[ax[i].set_xlim([5, 16]) for i in range(3)]\n[ax[i].set_xlabel(\"Lon in deg\") for i in range(3)]\nax[0].set_ylabel(\"Lat in deg\")\n\nax[0].set_title(\"Temperature observations at 2m\\nfrom DWD (2020-06-09 12:00)\")\nax[1].set_title(\"Interpolated temperature\\nwith North-South drift\")\nax[2].set_title(\"Estimated mean drift\\nfrom Universal Kriging\")\n\nfmt = dict(orientation=\"horizontal\", shrink=0.5, fraction=0.1, pad=0.2)\nfig.colorbar(co2, ax=ax, **fmt).set_label(\"T in [\u00b0C]\")"
      ]
    },
    {
      "cell_type": "markdown",
      "metadata": {},
      "source": [
        "To get a better impression of the estimated north-south drift, we'll take\na look at a cross-section at a longitude of 10 degree:\n\n"
      ]
    },
    {
      "cell_type": "code",
      "execution_count": null,
      "metadata": {
        "collapsed": false
      },
      "outputs": [],
      "source": [
        "fig, ax = plt.subplots()\nax.plot(g_lat, uk[\"temp_field\"][:, 50], label=\"Interpolated temperature\")\nax.plot(g_lat, uk[\"mean_field\"][:, 50], label=\"North-South mean drift\")\nax.set_xlabel(\"Lat in deg\")\nax.set_ylabel(\"T in [\u00b0C]\")\nax.set_title(\"North-South cross-section at 10\u00b0\")\nax.legend()"
      ]
    },
    {
      "cell_type": "markdown",
      "metadata": {},
      "source": [
        "Interpretion of the results is now up to you! ;-)\n\n"
      ]
    }
  ],
  "metadata": {
    "kernelspec": {
      "display_name": "Python 3",
      "language": "python",
      "name": "python3"
    },
    "language_info": {
      "codemirror_mode": {
        "name": "ipython",
        "version": 3
      },
      "file_extension": ".py",
      "mimetype": "text/x-python",
      "name": "python",
      "nbconvert_exporter": "python",
      "pygments_lexer": "ipython3",
      "version": "3.11.9"
    }
  },
  "nbformat": 4,
  "nbformat_minor": 0
}