{
 "cells": [
  {
   "cell_type": "code",
   "execution_count": 1,
   "metadata": {},
   "outputs": [],
   "source": [
    "import pandas as pd\n",
    "import numpy as np"
   ]
  },
  {
   "cell_type": "code",
   "execution_count": 2,
   "metadata": {},
   "outputs": [],
   "source": [
    "\n",
    "temperature_data = pd.read_csv('G:/fresh_start/main_thesis/data/saved_data/initial_all_data.csv')"
   ]
  },
  {
   "cell_type": "code",
   "execution_count": 3,
   "metadata": {},
   "outputs": [
    {
     "name": "stdout",
     "output_type": "stream",
     "text": [
      "        Unnamed: 0 Geo_region  Station        Date      Max T      Min T  \\\n",
      "0                0   Mountain     1016  1990-01-01   9.578267  16.865993   \n",
      "1                1   Mountain     1016  1990-01-02  10.074733  12.336708   \n",
      "2                2   Mountain     1016  1990-01-03   8.822569  25.611077   \n",
      "3                3   Mountain     1016  1990-01-04  12.803830   6.503694   \n",
      "4                4   Mountain     1016  1990-01-05  10.202334  12.335740   \n",
      "...            ...        ...      ...         ...        ...        ...   \n",
      "216931      216931       Hill     1419  2022-12-27  21.000000   6.000000   \n",
      "216932      216932       Hill     1419  2022-12-28  19.500000   5.500000   \n",
      "216933      216933       Hill     1419  2022-12-29  18.500000   6.500000   \n",
      "216934      216934       Hill     1419  2022-12-30  20.000000   7.500000   \n",
      "216935      216935       Hill     1419  2022-12-31  20.000000   8.500000   \n",
      "\n",
      "            Avg T  \n",
      "0       13.222130  \n",
      "1       11.205721  \n",
      "2       17.216823  \n",
      "3        9.653762  \n",
      "4       11.269037  \n",
      "...           ...  \n",
      "216931  13.500000  \n",
      "216932  12.500000  \n",
      "216933  12.500000  \n",
      "216934  13.750000  \n",
      "216935  14.250000  \n",
      "\n",
      "[216936 rows x 7 columns]\n"
     ]
    }
   ],
   "source": [
    "print(temperature_data)"
   ]
  },
  {
   "cell_type": "code",
   "execution_count": 4,
   "metadata": {},
   "outputs": [
    {
     "data": {
      "text/plain": [
       "Unnamed: 0    0.0\n",
       "Geo_region    0.0\n",
       "Station       0.0\n",
       "Date          0.0\n",
       "Max T         0.0\n",
       "Min T         0.0\n",
       "Avg T         0.0\n",
       "dtype: float64"
      ]
     },
     "execution_count": 4,
     "metadata": {},
     "output_type": "execute_result"
    }
   ],
   "source": [
    "temperature_data.apply(pd.isnull).sum()/temperature_data.shape[0]"
   ]
  },
  {
   "cell_type": "code",
   "execution_count": 9,
   "metadata": {},
   "outputs": [],
   "source": [
    "\n",
    "\n",
    "mountain_temp_data = temperature_data[temperature_data['Geo_region'] == 'Mountain'][['Station','Date', 'Max T', 'Min T', 'Avg T']]\n",
    "\n",
    "hill_temp_data = temperature_data[temperature_data['Geo_region'] == 'Hill'][['Station','Date', 'Max T', 'Min T', 'Avg T']]\n",
    "\n",
    "terai_temp_data = temperature_data[temperature_data['Geo_region'] == 'Terai'][['Station','Date', 'Max T', 'Min T', 'Avg T']]\n"
   ]
  },
  {
   "cell_type": "code",
   "execution_count": 11,
   "metadata": {},
   "outputs": [
    {
     "name": "stdout",
     "output_type": "stream",
     "text": [
      "        Station        Date      Max T     Min T      Avg T\n",
      "12052      1024  1990-01-01  10.926912 -1.563543   4.681685\n",
      "12053      1024  1990-01-02  16.761749 -3.509041   6.626354\n",
      "12054      1024  1990-01-03   3.463189  0.226358   1.844773\n",
      "12055      1024  1990-01-04  10.073775 -5.198028   2.437874\n",
      "12056      1024  1990-01-05  10.619989 -3.243091   3.688449\n",
      "...         ...         ...        ...       ...        ...\n",
      "216931     1419  2022-12-27  21.000000  6.000000  13.500000\n",
      "216932     1419  2022-12-28  19.500000  5.500000  12.500000\n",
      "216933     1419  2022-12-29  18.500000  6.500000  12.500000\n",
      "216934     1419  2022-12-30  20.000000  7.500000  13.750000\n",
      "216935     1419  2022-12-31  20.000000  8.500000  14.250000\n",
      "\n",
      "[120520 rows x 5 columns]\n"
     ]
    }
   ],
   "source": [
    "print(hill_temp_data)"
   ]
  },
  {
   "cell_type": "code",
   "execution_count": 19,
   "metadata": {},
   "outputs": [],
   "source": [
    "\n",
    "hill_dict = {}\n",
    "\n",
    "unique_stations = hill_temp_data['Station'].unique()\n",
    "\n",
    "# Loop through the unique regions and filter the data for each region\n",
    "for station in unique_stations:\n",
    "    station_data = hill_temp_data[hill_temp_data['Station'] == station][['Date', 'Max T', 'Min T', 'Avg T']]\n",
    "    station_data = station_data.set_index('Date')\n",
    "    station_data.index = pd.to_datetime(station_data.index)\n",
    "    hill_dict[station] = station_data\n",
    "\n",
    "\n",
    "mountain_dict = {}\n",
    "\n",
    "unique_stations = mountain_temp_data['Station'].unique()\n",
    "\n",
    "# Loop through the unique regions and filter the data for each region\n",
    "for station in unique_stations:\n",
    "    station_data = mountain_temp_data[mountain_temp_data['Station'] == station][['Date', 'Max T', 'Min T', 'Avg T']]\n",
    "    station_data = station_data.set_index('Date')\n",
    "    station_data.index = pd.to_datetime(station_data.index)\n",
    "    mountain_dict[station] = station_data\n",
    "\n",
    "\n",
    "\n",
    "\n",
    "terai_dict = {}\n",
    "\n",
    "unique_stations = terai_temp_data['Station'].unique()\n",
    "\n",
    "# Loop through the unique regions and filter the data for each region\n",
    "for station in unique_stations:\n",
    "    station_data = terai_temp_data[terai_temp_data['Station'] == station][['Date', 'Max T', 'Min T', 'Avg T']]\n",
    "    station_data = station_data.set_index('Date')\n",
    "    station_data.index = pd.to_datetime(station_data.index)\n",
    "    terai_dict[station] = station_data\n",
    "\n"
   ]
  },
  {
   "cell_type": "code",
   "execution_count": 20,
   "metadata": {},
   "outputs": [
    {
     "name": "stdout",
     "output_type": "stream",
     "text": [
      "{1212:                 Max T  Min T      Avg T\n",
      "Date                                   \n",
      "1990-01-01  22.200000    7.2  14.700000\n",
      "1990-01-02  21.200000    4.0  12.600000\n",
      "1990-01-03  22.200000    5.2  13.700000\n",
      "1990-01-04  23.200000    4.1  13.650000\n",
      "1990-01-05  24.100000    5.2  14.650000\n",
      "...               ...    ...        ...\n",
      "2022-12-27  24.400000    9.9  17.150000\n",
      "2022-12-28  19.053177    8.5  13.776588\n",
      "2022-12-29  18.825789    9.4  14.112894\n",
      "2022-12-30  24.500000    9.8  17.150000\n",
      "2022-12-31  24.400000    9.3  16.850000\n",
      "\n",
      "[12052 rows x 3 columns]}\n"
     ]
    }
   ],
   "source": [
    "print(terai_dict)"
   ]
  },
  {
   "cell_type": "code",
   "execution_count": null,
   "metadata": {},
   "outputs": [],
   "source": []
  }
 ],
 "metadata": {
  "kernelspec": {
   "display_name": "thesisKernel",
   "language": "python",
   "name": "thesiskernel"
  },
  "language_info": {
   "codemirror_mode": {
    "name": "ipython",
    "version": 3
   },
   "file_extension": ".py",
   "mimetype": "text/x-python",
   "name": "python",
   "nbconvert_exporter": "python",
   "pygments_lexer": "ipython3",
   "version": "3.11.6"
  }
 },
 "nbformat": 4,
 "nbformat_minor": 2
}
