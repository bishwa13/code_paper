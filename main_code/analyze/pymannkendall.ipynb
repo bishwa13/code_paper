{
 "cells": [
  {
   "cell_type": "code",
   "execution_count": null,
   "metadata": {},
   "outputs": [],
   "source": [
    "pip install pandas"
   ]
  },
  {
   "cell_type": "code",
   "execution_count": null,
   "metadata": {},
   "outputs": [],
   "source": []
  },
  {
   "cell_type": "code",
   "execution_count": 3,
   "metadata": {},
   "outputs": [],
   "source": [
    "import pandas as pd\n",
    "import scipy.stats \n",
    "import pymannkendall as mk\n"
   ]
  },
  {
   "cell_type": "markdown",
   "metadata": {},
   "source": [
    "#### for annual"
   ]
  },
  {
   "cell_type": "code",
   "execution_count": null,
   "metadata": {},
   "outputs": [],
   "source": []
  },
  {
   "cell_type": "code",
   "execution_count": 63,
   "metadata": {},
   "outputs": [
    {
     "name": "stdout",
     "output_type": "stream",
     "text": [
      "                 Slope  Intercept       Trend   P-Value   Z-Value\n",
      "Hill_TNn      0.018938   2.123122    no trend  0.277257  1.086502\n",
      "Hill_TNx      0.034082  21.221732  increasing  0.000047  4.071401\n",
      "Hill_TXn      0.044218  11.912919    no trend  0.071856  1.800026\n",
      "Hill_TXx      0.056636  31.213977  increasing  0.000788  3.356806\n",
      "Mountain_TNn  0.008464  -0.597864    no trend  0.807814  0.243247\n",
      "Mountain_TNx -0.009680  20.044107    no trend  0.436158 -0.778697\n",
      "Mountain_TXn  0.057294   9.753324  increasing  0.001749  3.129775\n",
      "Mountain_TXx  0.051026  28.913905  increasing  0.003499  2.920114\n",
      "Terai_TNn    -0.030000   5.865000    no trend  0.353447 -0.927924\n",
      "Terai_TNx     0.000000  27.670126    no trend  0.895714  0.131077\n",
      "Terai_TXn     0.039188  20.149815    no trend  0.346574  0.941256\n",
      "Terai_TXx     0.000000  39.450000    no trend  0.896558  0.130011\n"
     ]
    }
   ],
   "source": [
    "file_path = ('G:/01thesis/Results/ETCCDI/Base/geo_region_etccdi_dict.xlsx')  # Replace with your file path\n",
    "xls = pd.ExcelFile(file_path)\n",
    "\n",
    "# Create an empty dictionary to store the results\n",
    "mann_kendall_results = {}\n",
    "\n",
    "# Define the years of interest\n",
    "start_year = 1990\n",
    "end_year = 2021\n",
    "\n",
    "# Loop through each sheet in the Excel file\n",
    "for sheet_name in xls.sheet_names:\n",
    "    # Load the sheet into a DataFrame\n",
    "    df = pd.read_excel(file_path, sheet_name=sheet_name)\n",
    "    \n",
    "    # Filter the data for the specified years\n",
    "    df_filtered = df[(df['Year'] >= start_year) & (df['Year'] <= end_year)]\n",
    "    \n",
    "    # Select only the desired columns\n",
    "    selected_columns = ['TNn', 'TNx', 'TXn', 'TXx']\n",
    "    df_filtered = df_filtered[selected_columns]\n",
    "    \n",
    "    # Perform the Mann-Kendall Trend Test for each column\n",
    "    for column in selected_columns:\n",
    "        # Extract the data for the column\n",
    "        data = df_filtered[column].values\n",
    "        \n",
    "        # Perform the Mann-Kendall Trend Test\n",
    "        result = mk.original_test(data)\n",
    "        \n",
    "        # Store the result in the dictionary with a unique key\n",
    "        key = f'{sheet_name}_{column}'\n",
    "        mann_kendall_results[key] = {\n",
    "            'Slope': result.slope,\n",
    "            'Intercept': result.intercept,\n",
    "            'Trend': result.trend,\n",
    "            'P-Value': result.p,\n",
    "            'Z-Value': result.z,\n",
    "        }\n",
    "\n",
    "# Convert the results dictionary to a Pandas DataFrame\n",
    "results_df = pd.DataFrame.from_dict(mann_kendall_results, orient='index')\n",
    "\n",
    "# Save the results to an Excel file\n",
    "results_file_path = ('G:/01thesis/Results/ETCCDI/Base/mann_kendall_results_seasonal_etccdi_dataframes.xlsx') \n",
    "results_df.to_excel(results_file_path)\n",
    "\n",
    "# Display the results\n",
    "print(results_df)"
   ]
  },
  {
   "cell_type": "markdown",
   "metadata": {},
   "source": [
    "#### for seasonal"
   ]
  },
  {
   "cell_type": "code",
   "execution_count": 66,
   "metadata": {},
   "outputs": [],
   "source": [
    "df = pd.read_excel('G:/01thesis/Results/ETCCDI/Base/seasonal_etccdi_dataframes.xlsx')  # Replace 'your_data.xlsx' with your actual file path\n",
    "\n",
    "# Get unique 'Geo_region' values\n",
    "unique_geo_regions = df['Geo_region'].unique()\n",
    "\n",
    "# Create a dictionary to store dataframes by 'Geo_region'\n",
    "geo_region_dataframes = {}\n",
    "\n",
    "# Iterate through unique 'Geo_region' values and create dataframes\n",
    "for region in unique_geo_regions:\n",
    "    region_df = df[df['Geo_region'] == region].reset_index(drop=True)\n",
    "    geo_region_dataframes[region] = region_df\n",
    "    "
   ]
  },
  {
   "cell_type": "code",
   "execution_count": 74,
   "metadata": {},
   "outputs": [],
   "source": [
    "hill_seasonal_df = geo_region_dataframes['Hill']\n",
    "mountain_seasonal_df = geo_region_dataframes['Mountain']\n",
    "mountain_seasonal_df = geo_region_dataframes['Terai']"
   ]
  },
  {
   "cell_type": "code",
   "execution_count": 86,
   "metadata": {},
   "outputs": [],
   "source": [
    "\n",
    "\n"
   ]
  },
  {
   "cell_type": "code",
   "execution_count": 81,
   "metadata": {},
   "outputs": [
    {
     "name": "stdout",
     "output_type": "stream",
     "text": [
      "['Monsoon' 'Postmonsoon' 'Premonsoon' 'Winter']\n"
     ]
    }
   ],
   "source": [
    "print(unique_hill_season)\n",
    "\n",
    "\n"
   ]
  },
  {
   "cell_type": "code",
   "execution_count": 84,
   "metadata": {},
   "outputs": [],
   "source": [
    "\n",
    "\n"
   ]
  },
  {
   "cell_type": "code",
   "execution_count": 88,
   "metadata": {},
   "outputs": [],
   "source": [
    "\n",
    "hill_region_dict = {}\n",
    "\n",
    "unique_hill_season = hill_seasonal_df['Season'].unique()\n",
    "for season in unique_hill_season:\n",
    "    season_df = hill_seasonal_df[hill_seasonal_df['Season'] == season].reset_index(drop=True)\n",
    "    hill_region_dict[season] = season_df\n",
    "\n",
    "\n",
    "\n",
    "mountain_region_dict = {}\n",
    "terai_region_dict = {}\n",
    "\n",
    "# Unique seasons for Mountain and Terai\n",
    "unique_mountain_season = mountain_seasonal_df['Season'].unique()\n",
    "unique_terai_season = terai_seasonal_df['Season'].unique()\n",
    "\n",
    "# Create dataframes for each season and store them in the respective dictionaries\n",
    "for season in unique_mountain_season:\n",
    "    season_df = mountain_seasonal_df[mountain_seasonal_df['Season'] == season].reset_index(drop=True)\n",
    "    mountain_region_dict[season] = season_df\n",
    "\n",
    "for season in unique_terai_season:\n",
    "    season_df = terai_seasonal_df[terai_seasonal_df['Season'] == season].reset_index(drop=True)\n",
    "    terai_region_dict[season] = season_df\n",
    "\n",
    "# Naming convention for individual dataframes\n",
    "mountain_Monsoon_df = mountain_region_dict['Monsoon']\n",
    "mountain_Postmonsoon_df = mountain_region_dict['Postmonsoon']\n",
    "mountain_Premonsoon_df = mountain_region_dict['Premonsoon']\n",
    "mountain_Winter_df = mountain_region_dict['Winter']\n",
    "\n",
    "terai_Monsoon_df = terai_region_dict['Monsoon']\n",
    "terai_Postmonsoon_df = terai_region_dict['Postmonsoon']\n",
    "terai_Premonsoon_df = terai_region_dict['Premonsoon']\n",
    "terai_Winter_df = terai_region_dict['Winter']\n",
    "\n",
    "hill_Monsoon_df = hill_region_dict['Monsoon']\n",
    "hill_Postmonsoon_df = hill_region_dict['Postmonsoon']\n",
    "hill_Premonsoon_df = hill_region_dict['Premonsoon']\n",
    "hill_Winter_df = hill_region_dict['Winter']\n"
   ]
  },
  {
   "cell_type": "code",
   "execution_count": 136,
   "metadata": {},
   "outputs": [],
   "source": [
    "geo_seasonal_dataframes_list = [mountain_Monsoon_df, mountain_Postmonsoon_df, mountain_Premonsoon_df, mountain_Winter_df,\n",
    "              terai_Monsoon_df, terai_Postmonsoon_df, terai_Premonsoon_df, terai_Winter_df,\n",
    "              hill_Monsoon_df, hill_Postmonsoon_df, hill_Premonsoon_df, hill_Winter_df]\n",
    "\n",
    "for item in geo_seasonal_dataframes_list:\n",
    "    item_name = [name for name, var in globals().items() if var is item][0]  # Get the variable name as a string\n",
    "    \n",
    "    parameters = ['TNn', 'TNx', 'TXn', 'TXx']\n",
    "    \n",
    "    mk_results = {}\n",
    "    for parameter in parameters:\n",
    "        data = item[parameter].values\n",
    "        result = mk.original_test(data)\n",
    "        result_df1 = pd.DataFrame({\n",
    "                'Statistic': ['Trend', 'h', 'p', 'z', 'Tau', 's', 'var_s', 'slope', 'intercept'],\n",
    "                'Value': [result.trend, result.h, result.p, result.z, result.Tau, result.s, result.var_s, result.slope, result.intercept]\n",
    "                })\n",
    "        result_df1['Parameter'] = parameter\n",
    "        pivoted_result_df = result_df1.pivot(index='Parameter', columns='Statistic', values='Value')\n",
    "        \n",
    "        mk_results[parameter] = pivoted_result_df\n",
    "        \n",
    "    mk_result_concat_df =  pd.concat(mk_results.values(), ignore_index=False)   \n",
    "    \n",
    "    #df_name = 'mk_result_concat_df'    \n",
    "    \n",
    "    export_file_path = f'G:/01thesis/Results/ETCCDI/mk_seasonal/{item_name}.xlsx'    \n",
    "    mk_result_concat_df.to_excel(export_file_path, index=True)\n"
   ]
  },
  {
   "cell_type": "code",
   "execution_count": 124,
   "metadata": {},
   "outputs": [],
   "source": []
  },
  {
   "cell_type": "code",
   "execution_count": null,
   "metadata": {},
   "outputs": [],
   "source": []
  },
  {
   "cell_type": "code",
   "execution_count": null,
   "metadata": {},
   "outputs": [],
   "source": []
  },
  {
   "cell_type": "code",
   "execution_count": null,
   "metadata": {},
   "outputs": [],
   "source": []
  }
 ],
 "metadata": {
  "kernelspec": {
   "display_name": "thesisKernel",
   "language": "python",
   "name": "thesiskernel"
  },
  "language_info": {
   "codemirror_mode": {
    "name": "ipython",
    "version": 3
   },
   "file_extension": ".py",
   "mimetype": "text/x-python",
   "name": "python",
   "nbconvert_exporter": "python",
   "pygments_lexer": "ipython3",
   "version": "3.11.6"
  }
 },
 "nbformat": 4,
 "nbformat_minor": 2
}
