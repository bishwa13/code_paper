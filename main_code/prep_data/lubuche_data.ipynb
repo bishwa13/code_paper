{
 "cells": [
  {
   "cell_type": "code",
   "execution_count": 2,
   "metadata": {},
   "outputs": [],
   "source": [
    "import pandas as pd\n",
    "import openpyxl \n",
    "import numpy as np\n",
    "import matplotlib.pyplot as plt"
   ]
  },
  {
   "cell_type": "code",
   "execution_count": null,
   "metadata": {},
   "outputs": [],
   "source": [
    "lubuche_max = pd.read_excel(r'C:\\Users\\Administrator\\Desktop\\New folder\\New folder\\lubuche_station_max.xlsx')\n",
    "\n",
    "lubuche_min = pd.read_excel(r'C:\\Users\\Administrator\\Desktop\\New folder\\New folder\\lubuche_station_min.xlsx')\n",
    "\n",
    "print(lubuche_max.head())\n",
    "\n",
    "\n",
    "print(lubuche_min.head())\n",
    "\n",
    "\n"
   ]
  },
  {
   "cell_type": "markdown",
   "metadata": {},
   "source": [
    "Add new column of Elevation with value 5200, Station with 9999, Lat with 27.961111, and Long with 86.808889"
   ]
  },
  {
   "cell_type": "code",
   "execution_count": 6,
   "metadata": {},
   "outputs": [
    {
     "name": "stdout",
     "output_type": "stream",
     "text": [
      "            Date      Tmax       Tmin\n",
      "0     1961-01-01 -0.484448 -14.044298\n",
      "1     1961-01-02 -0.392898 -12.945998\n",
      "2     1961-01-03 -0.052448 -13.479893\n",
      "3     1961-01-04 -0.507748 -13.527798\n",
      "4     1961-01-05 -0.609948 -12.743314\n",
      "...          ...       ...        ...\n",
      "51095 2100-12-03  2.811152 -14.278098\n",
      "51096 2100-12-04  3.721002 -13.946898\n",
      "51097 2100-12-05  2.879002 -13.652448\n",
      "51098 2100-12-06  2.790852 -13.776348\n",
      "51099 2100-12-07  2.433702 -14.406472\n",
      "\n",
      "[51100 rows x 3 columns]\n"
     ]
    }
   ],
   "source": [
    "# Step 2: Merge the two DataFrames on the 'Date' column\n",
    "merged_df = pd.merge(lubuche_max[['Date', 'Tmax']], lubuche_min[['Date', 'Tmin']], on='Date')\n",
    "\n",
    "# Step 3: Display the new DataFrame with Date, Tmax, and Tmin\n",
    "print(merged_df)"
   ]
  },
  {
   "cell_type": "code",
   "execution_count": 7,
   "metadata": {},
   "outputs": [
    {
     "name": "stdout",
     "output_type": "stream",
     "text": [
      "            Date      Tmax       Tmin  Elevation  Station        Lat  \\\n",
      "0     1961-01-01 -0.484448 -14.044298       5200     9999  27.961111   \n",
      "1     1961-01-02 -0.392898 -12.945998       5200     9999  27.961111   \n",
      "2     1961-01-03 -0.052448 -13.479893       5200     9999  27.961111   \n",
      "3     1961-01-04 -0.507748 -13.527798       5200     9999  27.961111   \n",
      "4     1961-01-05 -0.609948 -12.743314       5200     9999  27.961111   \n",
      "...          ...       ...        ...        ...      ...        ...   \n",
      "51095 2100-12-03  2.811152 -14.278098       5200     9999  27.961111   \n",
      "51096 2100-12-04  3.721002 -13.946898       5200     9999  27.961111   \n",
      "51097 2100-12-05  2.879002 -13.652448       5200     9999  27.961111   \n",
      "51098 2100-12-06  2.790852 -13.776348       5200     9999  27.961111   \n",
      "51099 2100-12-07  2.433702 -14.406472       5200     9999  27.961111   \n",
      "\n",
      "            Long  \n",
      "0      86.808889  \n",
      "1      86.808889  \n",
      "2      86.808889  \n",
      "3      86.808889  \n",
      "4      86.808889  \n",
      "...          ...  \n",
      "51095  86.808889  \n",
      "51096  86.808889  \n",
      "51097  86.808889  \n",
      "51098  86.808889  \n",
      "51099  86.808889  \n",
      "\n",
      "[51100 rows x 7 columns]\n"
     ]
    }
   ],
   "source": [
    "# Step 1: Add new columns with constant values\n",
    "merged_df['Elevation'] = 5200\n",
    "merged_df['Station'] = 9999\n",
    "merged_df['Lat'] = 27.961111\n",
    "merged_df['Long'] = 86.808889\n",
    "\n",
    "# Step 2: Display the updated DataFrame\n",
    "print(merged_df)"
   ]
  },
  {
   "cell_type": "code",
   "execution_count": 9,
   "metadata": {},
   "outputs": [
    {
     "name": "stdout",
     "output_type": "stream",
     "text": [
      "            Date      Tmax       Tmin  Elevation  Station        Lat  \\\n",
      "0     1961-01-01 -0.484448 -14.044298       5200     9999  27.961111   \n",
      "1     1961-01-02 -0.392898 -12.945998       5200     9999  27.961111   \n",
      "2     1961-01-03 -0.052448 -13.479893       5200     9999  27.961111   \n",
      "3     1961-01-04 -0.507748 -13.527798       5200     9999  27.961111   \n",
      "4     1961-01-05 -0.609948 -12.743314       5200     9999  27.961111   \n",
      "...          ...       ...        ...        ...      ...        ...   \n",
      "22630 2022-12-27  1.958502 -13.957448       5200     9999  27.961111   \n",
      "22631 2022-12-28  2.558002 -14.062051       5200     9999  27.961111   \n",
      "22632 2022-12-29  1.934952 -13.957630       5200     9999  27.961111   \n",
      "22633 2022-12-30  2.240752 -14.079048       5200     9999  27.961111   \n",
      "22634 2022-12-31  2.933752 -14.119798       5200     9999  27.961111   \n",
      "\n",
      "            Long  \n",
      "0      86.808889  \n",
      "1      86.808889  \n",
      "2      86.808889  \n",
      "3      86.808889  \n",
      "4      86.808889  \n",
      "...          ...  \n",
      "22630  86.808889  \n",
      "22631  86.808889  \n",
      "22632  86.808889  \n",
      "22633  86.808889  \n",
      "22634  86.808889  \n",
      "\n",
      "[22635 rows x 7 columns]\n"
     ]
    }
   ],
   "source": [
    "# Filter the dataframe to include only dates up to '2022-12-31'\n",
    "filtered_df = merged_df[merged_df['Date'] <= '2022-12-31']\n",
    "\n",
    "print(filtered_df)\n"
   ]
  },
  {
   "cell_type": "code",
   "execution_count": 10,
   "metadata": {},
   "outputs": [],
   "source": [
    "filtered_df.to_csv(r'G:\\fresh_start\\paper\\code_paper\\main_data\\raw_data\\lubuche_filtered_df_up_to_2022.csv', index=False)"
   ]
  },
  {
   "cell_type": "code",
   "execution_count": null,
   "metadata": {},
   "outputs": [],
   "source": []
  },
  {
   "cell_type": "code",
   "execution_count": null,
   "metadata": {},
   "outputs": [],
   "source": []
  }
 ],
 "metadata": {
  "kernelspec": {
   "display_name": "article_env",
   "language": "python",
   "name": "python3"
  },
  "language_info": {
   "codemirror_mode": {
    "name": "ipython",
    "version": 3
   },
   "file_extension": ".py",
   "mimetype": "text/x-python",
   "name": "python",
   "nbconvert_exporter": "python",
   "pygments_lexer": "ipython3",
   "version": "3.12.5"
  }
 },
 "nbformat": 4,
 "nbformat_minor": 2
}
