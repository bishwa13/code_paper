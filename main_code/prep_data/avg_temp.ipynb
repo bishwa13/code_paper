{
 "cells": [
  {
   "cell_type": "code",
   "execution_count": 2,
   "metadata": {},
   "outputs": [],
   "source": [
    "import pandas as pd"
   ]
  },
  {
   "cell_type": "code",
   "execution_count": 3,
   "metadata": {},
   "outputs": [],
   "source": [
    "max_t_path = 'G:/fresh_start/main_thesis/data/saved_data/max_station_sort_filled1_1990.csv'\n",
    "min_t_path = 'G:/fresh_start/main_thesis/data/saved_data/min_station_sort_filled1_1990.csv'"
   ]
  },
  {
   "cell_type": "code",
   "execution_count": 4,
   "metadata": {},
   "outputs": [],
   "source": [
    "i_max = pd.read_csv(max_t_path)\n",
    "i_min = pd.read_csv(min_t_path)"
   ]
  },
  {
   "cell_type": "code",
   "execution_count": 5,
   "metadata": {},
   "outputs": [],
   "source": [
    "# Convert the 'Date' column to a consistent datetime format in i_max\n",
    "i_max['Date'] = pd.to_datetime(i_max['Date'])\n",
    "\n",
    "# Convert the 'Date' column to a consistent datetime format in i_min\n",
    "i_min['Date'] = pd.to_datetime(i_min['Date'])"
   ]
  },
  {
   "cell_type": "code",
   "execution_count": 6,
   "metadata": {},
   "outputs": [],
   "source": [
    "# Merge the i_max and i_min dataframes using 'Station' and 'Date' as the keys\n",
    "merged_df = i_max.merge(i_min, on=['Station', 'Date'])\n",
    "\n",
    "\n"
   ]
  },
  {
   "cell_type": "code",
   "execution_count": 7,
   "metadata": {},
   "outputs": [],
   "source": [
    "# Calculate the average temperature and add it as a new column\n",
    "merged_df['Avg T'] = (merged_df['Max T'] + merged_df['Min T']) / 2\n",
    "\n"
   ]
  },
  {
   "cell_type": "code",
   "execution_count": 8,
   "metadata": {},
   "outputs": [],
   "source": [
    "merged_df.to_csv('G:/fresh_start/main_thesis/data/saved_data/avg_max_min.csv')"
   ]
  },
  {
   "cell_type": "code",
   "execution_count": null,
   "metadata": {},
   "outputs": [],
   "source": []
  },
  {
   "cell_type": "code",
   "execution_count": 9,
   "metadata": {},
   "outputs": [
    {
     "name": "stdout",
     "output_type": "stream",
     "text": [
      "        Station       Date      Max T\n",
      "0          1016 1990-01-01   9.578267\n",
      "1          1016 1990-01-02  10.074733\n",
      "2          1016 1990-01-03   8.822569\n",
      "3          1016 1990-01-04  12.803830\n",
      "4          1016 1990-01-05  10.202334\n",
      "...         ...        ...        ...\n",
      "204879     1419 2022-12-27  21.000000\n",
      "204880     1419 2022-12-28  19.500000\n",
      "204881     1419 2022-12-29  18.500000\n",
      "204882     1419 2022-12-30  20.000000\n",
      "204883     1419 2022-12-31  20.000000\n",
      "\n",
      "[204884 rows x 3 columns]\n"
     ]
    }
   ],
   "source": [
    "print(i_max)"
   ]
  }
 ],
 "metadata": {
  "kernelspec": {
   "display_name": "thesisKernel",
   "language": "python",
   "name": "thesiskernel"
  },
  "language_info": {
   "codemirror_mode": {
    "name": "ipython",
    "version": 3
   },
   "file_extension": ".py",
   "mimetype": "text/x-python",
   "name": "python",
   "nbconvert_exporter": "python",
   "pygments_lexer": "ipython3",
   "version": "3.11.6"
  }
 },
 "nbformat": 4,
 "nbformat_minor": 2
}
