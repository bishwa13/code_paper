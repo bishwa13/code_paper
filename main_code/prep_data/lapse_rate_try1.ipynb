{
 "cells": [
  {
   "cell_type": "markdown",
   "metadata": {},
   "source": [
    "### Lapse rate Equation\n",
    "\n",
    "$$ T_{cal} = T_{obs} + (H_{Elevation} - L_{Elevation}) * (-0.0065) $$\n",
    "\n",
    "**Where,** \n",
    "\n",
    "$ T_{cal} $ = High elevation calculating temperature\\\n",
    "$ T_{obs} $ = Low elevation observed temperature\\\n",
    "$ H_{Elevation} $ = High elevation (calculating temperature station's elevation)\\\n",
    "$ L_{Elevation} $ = Low elevation (observed temperature station's elevation)\\\n",
    "\n",
    "\n"
   ]
  },
  {
   "cell_type": "code",
   "execution_count": 1,
   "metadata": {},
   "outputs": [],
   "source": [
    "# Import libraries\n",
    "import pandas as pd\n",
    "import numpy as np"
   ]
  },
  {
   "cell_type": "code",
   "execution_count": 2,
   "metadata": {},
   "outputs": [],
   "source": [
    "def calculate_temp(row, temp_column, df):\n",
    "    if pd.isna(row[temp_column]):  # If the temperature (e.g., Tmin) is NaN\n",
    "        # Filter the data for the same date and valid temperature values\n",
    "        same_date_data = df[(df['date'] == row['date']) & ~pd.isna(df[temp_column])]\n",
    "        \n",
    "        if not same_date_data.empty:\n",
    "            # Calculate the average temperature of available stations\n",
    "            avg_temp = same_date_data[temp_column].mean()\n",
    "            \n",
    "            # Calculate the average elevation difference\n",
    "            avg_elevation_diff = (same_date_data['elevation'] - row['elevation']).mean()\n",
    "            \n",
    "            # Apply the lapse rate adjustment using the average elevation difference\n",
    "            lapse_rate = -6.5 / 1000  # Lapse rate in °C per meter\n",
    "            adjusted_temp = avg_temp + avg_elevation_diff * lapse_rate\n",
    "            \n",
    "            return adjusted_temp  # Return the adjusted temperature\n",
    "        \n",
    "    return row[temp_column]  # If temperature is not NaN, return the original value"
   ]
  },
  {
   "cell_type": "code",
   "execution_count": 37,
   "metadata": {},
   "outputs": [
    {
     "name": "stdout",
     "output_type": "stream",
     "text": [
      "             date  station        regions        lat       long  elevation  \\\n",
      "0      1962-01-01     1316          Tarai  26.820440  87.159170      105.0   \n",
      "1      1962-01-02     1316          Tarai  26.820440  87.159170      105.0   \n",
      "2      1962-01-03     1316          Tarai  26.820440  87.159170      105.0   \n",
      "3      1962-01-04     1316          Tarai  26.820440  87.159170      105.0   \n",
      "4      1962-01-05     1316          Tarai  26.820440  87.159170      105.0   \n",
      "...           ...      ...            ...        ...        ...        ...   \n",
      "512534 2022-12-27     9999  High Mountain  27.961111  86.808889     5200.0   \n",
      "512535 2022-12-28     9999  High Mountain  27.961111  86.808889     5200.0   \n",
      "512536 2022-12-29     9999  High Mountain  27.961111  86.808889     5200.0   \n",
      "512537 2022-12-30     9999  High Mountain  27.961111  86.808889     5200.0   \n",
      "512538 2022-12-31     9999  High Mountain  27.961111  86.808889     5200.0   \n",
      "\n",
      "             Tmin      Tmax  \n",
      "0             NaN       NaN  \n",
      "1             NaN       NaN  \n",
      "2             NaN       NaN  \n",
      "3             NaN       NaN  \n",
      "4             NaN       NaN  \n",
      "...           ...       ...  \n",
      "512534 -13.957448  1.958502  \n",
      "512535 -14.062051  2.558002  \n",
      "512536 -13.957630  1.934952  \n",
      "512537 -14.079048  2.240752  \n",
      "512538 -14.119798  2.933752  \n",
      "\n",
      "[512539 rows x 8 columns]\n"
     ]
    }
   ],
   "source": [
    "for_nan_fill_df = pd.read_csv(r'G:\\fresh_start\\paper\\code_paper\\main_data\\raw_data\\df33333333_Nan.csv')\n",
    "\n",
    "for_nan_fill_df['date'] = pd.to_datetime(for_nan_fill_df['date'])\n",
    "print(for_nan_fill_df)"
   ]
  },
  {
   "cell_type": "code",
   "execution_count": 39,
   "metadata": {},
   "outputs": [
    {
     "name": "stdout",
     "output_type": "stream",
     "text": [
      "             date  station        regions        lat       long  elevation  \\\n",
      "10957  1992-01-01     1316          Tarai  26.820440  87.159170      105.0   \n",
      "10958  1992-01-02     1316          Tarai  26.820440  87.159170      105.0   \n",
      "10959  1992-01-03     1316          Tarai  26.820440  87.159170      105.0   \n",
      "10960  1992-01-04     1316          Tarai  26.820440  87.159170      105.0   \n",
      "10961  1992-01-05     1316          Tarai  26.820440  87.159170      105.0   \n",
      "...           ...      ...            ...        ...        ...        ...   \n",
      "512534 2022-12-27     9999  High Mountain  27.961111  86.808889     5200.0   \n",
      "512535 2022-12-28     9999  High Mountain  27.961111  86.808889     5200.0   \n",
      "512536 2022-12-29     9999  High Mountain  27.961111  86.808889     5200.0   \n",
      "512537 2022-12-30     9999  High Mountain  27.961111  86.808889     5200.0   \n",
      "512538 2022-12-31     9999  High Mountain  27.961111  86.808889     5200.0   \n",
      "\n",
      "             Tmin      Tmax  \n",
      "10957         NaN       NaN  \n",
      "10958         NaN       NaN  \n",
      "10959         NaN       NaN  \n",
      "10960         NaN       NaN  \n",
      "10961         NaN       NaN  \n",
      "...           ...       ...  \n",
      "512534 -13.957448  1.958502  \n",
      "512535 -14.062051  2.558002  \n",
      "512536 -13.957630  1.934952  \n",
      "512537 -14.079048  2.240752  \n",
      "512538 -14.119798  2.933752  \n",
      "\n",
      "[260528 rows x 8 columns]\n"
     ]
    }
   ],
   "source": [
    "start_date = '1992-01-01'\n",
    "end_date = '2022-12-31'\n",
    "\n",
    "# Filter the DataFrame to include only rows between start_date and end_date\n",
    "filtered_df_1992 = for_nan_fill_df[(for_nan_fill_df['date'] >= start_date) & (for_nan_fill_df['date'] <= end_date)]\n",
    "\n",
    "# Display the first few rows of the filtered DataFrame to verify\n",
    "print(filtered_df_1992)"
   ]
  },
  {
   "cell_type": "code",
   "execution_count": 32,
   "metadata": {},
   "outputs": [],
   "source": [
    "#filtered_df_1992.to_csv(r'G:\\fresh_start\\paper\\code_paper\\main_data\\raw_data\\filtered_df_1992_not_filled.csv')"
   ]
  },
  {
   "cell_type": "code",
   "execution_count": 40,
   "metadata": {},
   "outputs": [
    {
     "name": "stderr",
     "output_type": "stream",
     "text": [
      "C:\\Users\\Administrator\\AppData\\Local\\Temp\\ipykernel_2320\\2287492583.py:1: SettingWithCopyWarning: \n",
      "A value is trying to be set on a copy of a slice from a DataFrame.\n",
      "Try using .loc[row_indexer,col_indexer] = value instead\n",
      "\n",
      "See the caveats in the documentation: https://pandas.pydata.org/pandas-docs/stable/user_guide/indexing.html#returning-a-view-versus-a-copy\n",
      "  filtered_df_1992['date'] = pd.to_datetime(filtered_df_1992['date'])\n"
     ]
    }
   ],
   "source": [
    "filtered_df_1992['date'] = pd.to_datetime(filtered_df_1992['date'])"
   ]
  },
  {
   "cell_type": "code",
   "execution_count": 41,
   "metadata": {},
   "outputs": [
    {
     "name": "stderr",
     "output_type": "stream",
     "text": [
      "C:\\Users\\Administrator\\AppData\\Local\\Temp\\ipykernel_2320\\2261239483.py:1: SettingWithCopyWarning: \n",
      "A value is trying to be set on a copy of a slice from a DataFrame.\n",
      "Try using .loc[row_indexer,col_indexer] = value instead\n",
      "\n",
      "See the caveats in the documentation: https://pandas.pydata.org/pandas-docs/stable/user_guide/indexing.html#returning-a-view-versus-a-copy\n",
      "  filtered_df_1992['Tmin'] = filtered_df_1992.apply(lambda row: calculate_temp(row, 'Tmin', filtered_df_1992), axis=1)\n"
     ]
    },
    {
     "name": "stdout",
     "output_type": "stream",
     "text": [
      "             date  station        regions        lat       long  elevation  \\\n",
      "10957  1992-01-01     1316          Tarai  26.820440  87.159170      105.0   \n",
      "10958  1992-01-02     1316          Tarai  26.820440  87.159170      105.0   \n",
      "10959  1992-01-03     1316          Tarai  26.820440  87.159170      105.0   \n",
      "10960  1992-01-04     1316          Tarai  26.820440  87.159170      105.0   \n",
      "10961  1992-01-05     1316          Tarai  26.820440  87.159170      105.0   \n",
      "...           ...      ...            ...        ...        ...        ...   \n",
      "512534 2022-12-27     9999  High Mountain  27.961111  86.808889     5200.0   \n",
      "512535 2022-12-28     9999  High Mountain  27.961111  86.808889     5200.0   \n",
      "512536 2022-12-29     9999  High Mountain  27.961111  86.808889     5200.0   \n",
      "512537 2022-12-30     9999  High Mountain  27.961111  86.808889     5200.0   \n",
      "512538 2022-12-31     9999  High Mountain  27.961111  86.808889     5200.0   \n",
      "\n",
      "             Tmin       Tmax  \n",
      "10957  -10.472466   0.043769  \n",
      "10958  -10.732585   0.610969  \n",
      "10959   -9.583022   1.591307  \n",
      "10960   -9.593833   3.084632  \n",
      "10961   -9.055566 -32.720798  \n",
      "...           ...        ...  \n",
      "512534 -13.957448   1.958502  \n",
      "512535 -14.062051   2.558002  \n",
      "512536 -13.957630   1.934952  \n",
      "512537 -14.079048   2.240752  \n",
      "512538 -14.119798   2.933752  \n",
      "\n",
      "[260528 rows x 8 columns]\n"
     ]
    },
    {
     "name": "stderr",
     "output_type": "stream",
     "text": [
      "C:\\Users\\Administrator\\AppData\\Local\\Temp\\ipykernel_2320\\2261239483.py:2: SettingWithCopyWarning: \n",
      "A value is trying to be set on a copy of a slice from a DataFrame.\n",
      "Try using .loc[row_indexer,col_indexer] = value instead\n",
      "\n",
      "See the caveats in the documentation: https://pandas.pydata.org/pandas-docs/stable/user_guide/indexing.html#returning-a-view-versus-a-copy\n",
      "  filtered_df_1992['Tmax'] = filtered_df_1992.apply(lambda row: calculate_temp(row, 'Tmax', filtered_df_1992), axis=1)\n"
     ]
    }
   ],
   "source": [
    "\n",
    "filtered_df_1992['Tmin'] = filtered_df_1992.apply(lambda row: calculate_temp(row, 'Tmin', filtered_df_1992), axis=1)\n",
    "filtered_df_1992['Tmax'] = filtered_df_1992.apply(lambda row: calculate_temp(row, 'Tmax', filtered_df_1992), axis=1)\n",
    "print(filtered_df_1992)"
   ]
  },
  {
   "cell_type": "code",
   "execution_count": 35,
   "metadata": {},
   "outputs": [],
   "source": [
    "filtered_df_1992.to_csv(r'G:\\fresh_start\\paper\\code_paper\\main_data\\raw_data\\filtered_df_1992_filled_lapse.csv', index=False)"
   ]
  },
  {
   "cell_type": "code",
   "execution_count": null,
   "metadata": {},
   "outputs": [],
   "source": []
  },
  {
   "cell_type": "code",
   "execution_count": null,
   "metadata": {},
   "outputs": [],
   "source": []
  }
 ],
 "metadata": {
  "kernelspec": {
   "display_name": "article_env",
   "language": "python",
   "name": "python3"
  },
  "language_info": {
   "codemirror_mode": {
    "name": "ipython",
    "version": 3
   },
   "file_extension": ".py",
   "mimetype": "text/x-python",
   "name": "python",
   "nbconvert_exporter": "python",
   "pygments_lexer": "ipython3",
   "version": "3.12.5"
  }
 },
 "nbformat": 4,
 "nbformat_minor": 2
}
