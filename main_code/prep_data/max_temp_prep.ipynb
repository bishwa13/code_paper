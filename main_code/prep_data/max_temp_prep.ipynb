{
 "cells": [
  {
   "cell_type": "code",
   "execution_count": 14,
   "metadata": {},
   "outputs": [],
   "source": [
    "import pandas as pd\n",
    "import openpyxl \n",
    "import numpy as np"
   ]
  },
  {
   "cell_type": "code",
   "execution_count": 9,
   "metadata": {},
   "outputs": [],
   "source": [
    "# File Path\n",
    "\n",
    "\n",
    "max_temp_file_path = r'G:\\fresh_start\\paper\\code_paper\\main_data\\raw_data\\Max_temp.xlsx'\n",
    "\n"
   ]
  },
  {
   "cell_type": "code",
   "execution_count": 18,
   "metadata": {},
   "outputs": [],
   "source": [
    "#reading workbook\n",
    "initial_max_temp_df = pd.ExcelFile(max_temp_file_path)"
   ]
  },
  {
   "cell_type": "markdown",
   "metadata": {},
   "source": [
    "### For maximum temperature"
   ]
  },
  {
   "cell_type": "code",
   "execution_count": 19,
   "metadata": {},
   "outputs": [],
   "source": [
    "max_file_column_order =  [ 'Station Index', 'Max T']\n",
    "initial_max_dict = {}\n",
    "# Iterate over each sheet and create a DataFrame\n",
    "for sheet_name in initial_max_temp_df.sheet_names:\n",
    "    max_df_parsed = initial_max_temp_df.parse(sheet_name)\n",
    "\n",
    "    initial_max_dict[sheet_name] = max_df_parsed\n",
    "    \n",
    "\n",
    "\n",
    "\n",
    "     # Converting a Year , Month and Day Column into Date column\n",
    "    max_df_parsed['Date'] = pd.to_datetime(max_df_parsed[['Year', 'Month', 'Day']])\n",
    "\n",
    "    \n",
    "\n",
    "    # Set \"Date\" as the index column\n",
    "    max_df_parsed.set_index('Date', inplace=True)\n",
    "\n",
    "    max_df_parsed = max_df_parsed[max_file_column_order]\n",
    "    \n",
    "    max_df_parsed= max_df_parsed.rename(columns={'Station Index': 'Station'})\n",
    "    \n",
    "    initial_max_dict[sheet_name] = max_df_parsed\n",
    "\n"
   ]
  },
  {
   "cell_type": "code",
   "execution_count": 22,
   "metadata": {},
   "outputs": [],
   "source": [
    "all_station_as_it_is_data_frame_max1 = []\n",
    "for station_name, max_temp_df in initial_max_dict.items():\n",
    "    max_temp_df.loc[:, 'Station'] = str(station_name)\n",
    "    all_station_as_it_is_data_frame_max1.append(max_temp_df)\n",
    "\n",
    "\n",
    "all_station_as_it_is_data_frame_max2 = pd.concat(all_station_as_it_is_data_frame_max1, ignore_index=False)\n",
    "\n",
    "all_station_as_it_is_data_frame_max2['Max T'] = all_station_as_it_is_data_frame_2['Max T'].replace('NA', np.nan)"
   ]
  },
  {
   "cell_type": "code",
   "execution_count": 26,
   "metadata": {},
   "outputs": [],
   "source": [
    "max_output_file_path = r'G:\\fresh_start\\paper\\code_paper\\main_data\\raw_data\\max_temp_base.csv'\n",
    "\n",
    "# Export the DataFrame to a CSV file\n",
    "all_station_as_it_is_data_frame_max2.to_csv(max_output_file_path, index=True)\n"
   ]
  },
  {
   "cell_type": "code",
   "execution_count": null,
   "metadata": {},
   "outputs": [],
   "source": []
  },
  {
   "cell_type": "code",
   "execution_count": null,
   "metadata": {},
   "outputs": [],
   "source": []
  }
 ],
 "metadata": {
  "kernelspec": {
   "display_name": "article_env",
   "language": "python",
   "name": "python3"
  },
  "language_info": {
   "codemirror_mode": {
    "name": "ipython",
    "version": 3
   },
   "file_extension": ".py",
   "mimetype": "text/x-python",
   "name": "python",
   "nbconvert_exporter": "python",
   "pygments_lexer": "ipython3",
   "version": "3.11.9"
  }
 },
 "nbformat": 4,
 "nbformat_minor": 2
}
