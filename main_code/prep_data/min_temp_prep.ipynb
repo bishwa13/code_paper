{
 "cells": [
  {
   "cell_type": "code",
   "execution_count": 1,
   "metadata": {},
   "outputs": [],
   "source": [
    "import pandas as pd\n",
    "import openpyxl \n",
    "import numpy as np"
   ]
  },
  {
   "cell_type": "code",
   "execution_count": 9,
   "metadata": {},
   "outputs": [],
   "source": [
    "\n",
    "\n",
    "min_temp_file_path = r'G:\\fresh_start\\paper\\code_paper\\main_data\\raw_data\\Min_temp.xlsx'\n",
    "\n",
    "\n",
    "initial_min_temp_df = pd.ExcelFile(min_temp_file_path)"
   ]
  },
  {
   "cell_type": "markdown",
   "metadata": {},
   "source": [
    "### For Min Temperature"
   ]
  },
  {
   "cell_type": "code",
   "execution_count": 10,
   "metadata": {},
   "outputs": [],
   "source": [
    "\n",
    "min_file_column_order =  [ 'Station NO', 'Min T']\n",
    "initial_min_dict = {}\n",
    "# Iterate over each sheet and create a DataFrame\n",
    "for sheet_name in initial_min_temp_df.sheet_names:\n",
    "    min_df_parsed = initial_min_temp_df.parse(sheet_name)\n",
    "\n",
    "    initial_min_dict[sheet_name] = min_df_parsed\n",
    " \n",
    "     # Converting a Year , Month and Day Column into Date column\n",
    "    min_df_parsed['Date'] = pd.to_datetime(min_df_parsed[['Year', 'Month', 'Day']])\n",
    "\n",
    "    \n",
    "\n",
    "    # Set \"Date\" as the index column\n",
    "    min_df_parsed.set_index('Date', inplace=True)\n",
    "\n",
    "    min_df_parsed = min_df_parsed[min_file_column_order]\n",
    "    \n",
    "    min_df_parsed= min_df_parsed.rename(columns={'Station NO': 'Station'})\n",
    "    \n",
    "    initial_min_dict[sheet_name] = min_df_parsed\n",
    "\n",
    "\n",
    "\n"
   ]
  },
  {
   "cell_type": "code",
   "execution_count": 25,
   "metadata": {},
   "outputs": [],
   "source": [
    "all_station_as_it_is_data_frame_min1 = []\n",
    "for station_name, min_temp_df in initial_min_dict.items():\n",
    "    min_temp_df.loc[:, 'Station'] = str(station_name)\n",
    "    all_station_as_it_is_data_frame_min1.append(min_temp_df)\n",
    "\n",
    "\n",
    "all_station_as_it_is_data_frame_min2 = pd.concat(all_station_as_it_is_data_frame_min1, ignore_index=False)\n",
    "\n",
    "all_station_as_it_is_data_frame_min2['Min T'] = all_station_as_it_is_data_frame_min2['Min T'].replace('NA', np.nan)"
   ]
  },
  {
   "cell_type": "code",
   "execution_count": 26,
   "metadata": {},
   "outputs": [
    {
     "name": "stdout",
     "output_type": "stream",
     "text": [
      "           Station  Min T\n",
      "Date                     \n",
      "1987-02-22    1024    1.0\n",
      "1987-02-23    1024    0.2\n",
      "1987-02-24    1024    1.0\n",
      "1987-02-25    1024    1.2\n",
      "1987-02-26    1024    2.0\n",
      "...            ...    ...\n",
      "2022-12-27    1124    3.0\n",
      "2022-12-28    1124    3.5\n",
      "2022-12-29    1124    2.3\n",
      "2022-12-30    1124    3.5\n",
      "2022-12-31    1124    3.0\n",
      "\n",
      "[258812 rows x 2 columns]\n"
     ]
    }
   ],
   "source": [
    "print(all_station_as_it_is_data_frame_min2)"
   ]
  },
  {
   "cell_type": "code",
   "execution_count": 27,
   "metadata": {},
   "outputs": [],
   "source": [
    "min_output_file_path = r'G:\\fresh_start\\paper\\code_paper\\main_data\\raw_data\\min_temp_base.csv'\n",
    "\n",
    "# Export the DataFrame to a CSV file\n",
    "all_station_as_it_is_data_frame_min2.to_csv(min_output_file_path, index=True)\n"
   ]
  },
  {
   "cell_type": "code",
   "execution_count": null,
   "metadata": {},
   "outputs": [],
   "source": []
  }
 ],
 "metadata": {
  "kernelspec": {
   "display_name": "article_env",
   "language": "python",
   "name": "python3"
  },
  "language_info": {
   "codemirror_mode": {
    "name": "ipython",
    "version": 3
   },
   "file_extension": ".py",
   "mimetype": "text/x-python",
   "name": "python",
   "nbconvert_exporter": "python",
   "pygments_lexer": "ipython3",
   "version": "3.12.5"
  }
 },
 "nbformat": 4,
 "nbformat_minor": 2
}
