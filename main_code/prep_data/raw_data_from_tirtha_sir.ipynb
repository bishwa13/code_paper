{
 "cells": [
  {
   "cell_type": "code",
   "execution_count": null,
   "metadata": {},
   "outputs": [],
   "source": []
  },
  {
   "cell_type": "code",
   "execution_count": 2,
   "metadata": {},
   "outputs": [],
   "source": [
    "import pandas as pd\n",
    "import openpyxl \n",
    "import numpy as np\n",
    "import matplotlib.pyplot as plt"
   ]
  },
  {
   "cell_type": "code",
   "execution_count": 7,
   "metadata": {},
   "outputs": [],
   "source": [
    "\n",
    "\n",
    "max_9_11 = pd.read_csv(r'C:\\Users\\Administrator\\Desktop\\New folder\\max_9_11.csv')\n",
    "\n",
    "max_12_14 = pd.read_csv(r'C:\\Users\\Administrator\\Desktop\\New folder\\max_12_14.csv')\n",
    "\n",
    "\n",
    "min_9_11 = pd.read_csv(r'C:\\Users\\Administrator\\Desktop\\New folder\\min_9_11.csv')\n",
    "\n",
    "\n",
    "min_12_14 = pd.read_csv(r'C:\\Users\\Administrator\\Desktop\\New folder\\min_12_14.csv')\n"
   ]
  },
  {
   "cell_type": "code",
   "execution_count": 8,
   "metadata": {},
   "outputs": [
    {
     "name": "stdout",
     "output_type": "stream",
     "text": [
      "        gsid  index_no    station       district  year  month  day  max_temp\n",
      "0        321      1027  Bahrabise  Sindhupalchok  2011      7   10      31.0\n",
      "1        321      1027  Bahrabise  Sindhupalchok  2011      7   11      34.0\n",
      "2        321      1027  Bahrabise  Sindhupalchok  2011      7   12      29.0\n",
      "3        321      1027  Bahrabise  Sindhupalchok  2011      7   13      29.3\n",
      "4        321      1027  Bahrabise  Sindhupalchok  2011      7   14      32.5\n",
      "...      ...       ...        ...            ...   ...    ...  ...       ...\n",
      "394376   297      1003    Trisuli        Nuwakot  1980     12   27      24.4\n",
      "394377   297      1003    Trisuli        Nuwakot  1980     12   28      24.0\n",
      "394378   297      1003    Trisuli        Nuwakot  1980     12   29      24.2\n",
      "394379   297      1003    Trisuli        Nuwakot  1980     12   30      24.8\n",
      "394380   297      1003    Trisuli        Nuwakot  1980     12   31      24.6\n",
      "\n",
      "[394381 rows x 8 columns]\n",
      "        gsid  index_no         station  district  year  month  day  max_temp\n",
      "0         86      1204    Aisealukhark   Khotang  2013      1    1      30.3\n",
      "1         86      1204    Aisealukhark   Khotang  2013      1    2      31.2\n",
      "2         86      1204    Aisealukhark   Khotang  2013      1    3      32.5\n",
      "3         86      1204    Aisealukhark   Khotang  2013      1    4      31.5\n",
      "4         86      1204    Aisealukhark   Khotang  2013      1    5      29.5\n",
      "...      ...       ...             ...       ...   ...    ...  ...       ...\n",
      "272955   102      1213  Udayapur Gadhi  Udayapur  2015      7   27      29.4\n",
      "272956   102      1213  Udayapur Gadhi  Udayapur  2015      7   28      29.0\n",
      "272957   102      1213  Udayapur Gadhi  Udayapur  2015      7   29      29.8\n",
      "272958   102      1213  Udayapur Gadhi  Udayapur  2015      7   30      28.0\n",
      "272959   102      1213  Udayapur Gadhi  Udayapur  2015      7   31      27.2\n",
      "\n",
      "[272960 rows x 8 columns]\n",
      "        gsid  index_no    station       district  year  month  day  min_temp\n",
      "0        321      1027  Bahrabise  Sindhupalchok  2011      7   10      20.0\n",
      "1        321      1027  Bahrabise  Sindhupalchok  2011      7   11      22.0\n",
      "2        321      1027  Bahrabise  Sindhupalchok  2011      7   12      21.6\n",
      "3        321      1027  Bahrabise  Sindhupalchok  2011      7   13      20.0\n",
      "4        321      1027  Bahrabise  Sindhupalchok  2011      7   14      20.6\n",
      "...      ...       ...        ...            ...   ...    ...  ...       ...\n",
      "392242   297      1003    Trisuli        Nuwakot  1980     12   27       8.0\n",
      "392243   297      1003    Trisuli        Nuwakot  1980     12   28       7.4\n",
      "392244   297      1003    Trisuli        Nuwakot  1980     12   29      10.0\n",
      "392245   297      1003    Trisuli        Nuwakot  1980     12   30       7.8\n",
      "392246   297      1003    Trisuli        Nuwakot  1980     12   31       8.0\n",
      "\n",
      "[392247 rows x 8 columns]\n",
      "        gsid  index_no         station  district  year  month  day  min_temp\n",
      "0         86      1204    Aisealukhark   Khotang  2013      1    1      23.3\n",
      "1         86      1204    Aisealukhark   Khotang  2013      1    2      22.9\n",
      "2         86      1204    Aisealukhark   Khotang  2013      1    3      22.6\n",
      "3         86      1204    Aisealukhark   Khotang  2013      1    4      22.6\n",
      "4         86      1204    Aisealukhark   Khotang  2013      1    5      23.2\n",
      "...      ...       ...             ...       ...   ...    ...  ...       ...\n",
      "268740   102      1213  Udayapur Gadhi  Udayapur  2015      7   27      25.5\n",
      "268741   102      1213  Udayapur Gadhi  Udayapur  2015      7   28      23.6\n",
      "268742   102      1213  Udayapur Gadhi  Udayapur  2015      7   29      24.5\n",
      "268743   102      1213  Udayapur Gadhi  Udayapur  2015      7   30      23.2\n",
      "268744   102      1213  Udayapur Gadhi  Udayapur  2015      7   31      23.4\n",
      "\n",
      "[268745 rows x 8 columns]\n"
     ]
    }
   ],
   "source": [
    "\n",
    "\n",
    "print(max_9_11)\n",
    "\n",
    "print(max_12_14)\n",
    "\n",
    "print(min_9_11)\n",
    "\n",
    "print(min_12_14)\n",
    "\n",
    "\n"
   ]
  },
  {
   "cell_type": "code",
   "execution_count": 34,
   "metadata": {},
   "outputs": [
    {
     "name": "stdout",
     "output_type": "stream",
     "text": [
      "             Date  index_no  max_temp  min_temp\n",
      "0      2011-07-10      1027      31.0      20.0\n",
      "1      2011-07-11      1027      34.0      22.0\n",
      "2      2011-07-12      1027      29.0      21.6\n",
      "3      2011-07-13      1027      29.3      20.0\n",
      "4      2011-07-14      1027      32.5      20.6\n",
      "...           ...       ...       ...       ...\n",
      "652019 2015-07-27      1213      29.4      25.5\n",
      "652020 2015-07-28      1213      29.0      23.6\n",
      "652021 2015-07-29      1213      29.8      24.5\n",
      "652022 2015-07-30      1213      28.0      23.2\n",
      "652023 2015-07-31      1213      27.2      23.4\n",
      "\n",
      "[652024 rows x 4 columns]\n"
     ]
    }
   ],
   "source": [
    "\n",
    "\n",
    "max_combined = pd.concat([max_9_11, max_12_14], ignore_index=True)\n",
    "\n",
    "# Concatenate the min_temp DataFrames\n",
    "min_combined = pd.concat([min_9_11, min_12_14], ignore_index=True)\n",
    "\n",
    "# Merge the max_temp and min_temp DataFrames on common columns\n",
    "combined_df = pd.merge(max_combined, min_combined, on=['gsid', 'index_no', 'station', 'district', 'year', 'month', 'day'])\n",
    "\n",
    "\n",
    "combined_df['Date'] = pd.to_datetime(combined_df[['year', 'month', 'day']])\n",
    "\n",
    "selected_columns = ['Date', 'index_no', 'max_temp', 'min_temp']\n",
    "\n",
    "combined_df = combined_df[selected_columns]\n",
    "\n",
    "# Display the merged DataFrame\n",
    "print(combined_df)\n",
    "\n"
   ]
  },
  {
   "cell_type": "code",
   "execution_count": 26,
   "metadata": {},
   "outputs": [],
   "source": [
    "meteorological_stations = pd.read_excel(r'G:\\fresh_start\\paper\\code_paper\\main_data\\raw_data\\Meteorological_station_list.xlsx')\n",
    "meteorological_stations['Index No.'] = meteorological_stations['Index No.'].fillna(0).astype(int)\n",
    "#meteorological_stations['Index No.'] = meteorological_stations['Index No.'].astype(int)\n",
    "meteorological_stations.rename(columns={'Index No.': 'index_no'}, inplace=True)\n",
    "\n",
    "\n"
   ]
  },
  {
   "cell_type": "code",
   "execution_count": 40,
   "metadata": {},
   "outputs": [
    {
     "name": "stdout",
     "output_type": "stream",
     "text": [
      "      S.N.  index_no                Station Name       District  Province  \\\n",
      "0      1.0       101                  Kakerpakha        Baitadi       7.0   \n",
      "1      2.0       102         Baitadi (Gothapani)        Baitadi       7.0   \n",
      "2      3.0       103                Patan (West)        Baitadi       7.0   \n",
      "3      4.0       104                  Dadeldhura     Dadeldhura       7.0   \n",
      "4      5.0       105  Mahendra Nagar (Sundarpur)     Kanchanpur       7.0   \n",
      "..     ...       ...                         ...            ...       ...   \n",
      "575  576.0         0                   Taulihawa     Kapilbastu       5.0   \n",
      "576  577.0         0                     Thankot      Kathmandu       3.0   \n",
      "577  578.0         0          Tumlingtar Airport  Sankhuwasabha       1.0   \n",
      "578  579.0         0         Udayapur Gadi Radar       Udayapur       1.0   \n",
      "579    NaN         0                         NaN            NaN       NaN   \n",
      "\n",
      "                Type Automatic       Lon       Lat  Elev            Status  \\\n",
      "0      Precipitation       NaN  80.53816  29.65826   783               NaN   \n",
      "1        Climatology       NaN  80.41317  29.55744  1352               NaN   \n",
      "2        Climatology       NaN  80.54575  29.46714  1292  Temporary Closed   \n",
      "3           Synoptic       AWS  80.58775  29.30135  1879               NaN   \n",
      "4    Agrometeorology       NaN  80.23049  28.95477   197               NaN   \n",
      "..               ...       ...       ...       ...   ...               ...   \n",
      "575              AWS       AWS  83.07000  27.55000   NaN               NaN   \n",
      "576              AWS       AWS  85.20000  27.70000  1730               NaN   \n",
      "577    Aero-Synoptic       NaN  87.18580  27.31580   403               NaN   \n",
      "578              AWS       AWS  86.52000  26.93000  1175               NaN   \n",
      "579              NaN       NaN       NaN       NaN  4242               NaN   \n",
      "\n",
      "    Remarks  \n",
      "0       NaN  \n",
      "1       NaN  \n",
      "2       NaN  \n",
      "3       NaN  \n",
      "4       NaN  \n",
      "..      ...  \n",
      "575     NaN  \n",
      "576     NaN  \n",
      "577     NaN  \n",
      "578     NaN  \n",
      "579     NaN  \n",
      "\n",
      "[580 rows x 12 columns]\n"
     ]
    }
   ],
   "source": [
    "print(meteorological_stations)"
   ]
  },
  {
   "cell_type": "code",
   "execution_count": 41,
   "metadata": {},
   "outputs": [],
   "source": [
    "selected_columns = ['index_no', 'Lon', 'Lat', 'Elev']\n",
    "\n",
    "met_station = meteorological_stations[selected_columns]"
   ]
  },
  {
   "cell_type": "code",
   "execution_count": 42,
   "metadata": {},
   "outputs": [
    {
     "name": "stdout",
     "output_type": "stream",
     "text": [
      "     index_no       Lon       Lat  Elev\n",
      "0         101  80.53816  29.65826   783\n",
      "1         102  80.41317  29.55744  1352\n",
      "2         103  80.54575  29.46714  1292\n",
      "3         104  80.58775  29.30135  1879\n",
      "4         105  80.23049  28.95477   197\n",
      "..        ...       ...       ...   ...\n",
      "575         0  83.07000  27.55000   NaN\n",
      "576         0  85.20000  27.70000  1730\n",
      "577         0  87.18580  27.31580   403\n",
      "578         0  86.52000  26.93000  1175\n",
      "579         0       NaN       NaN  4242\n",
      "\n",
      "[580 rows x 4 columns]\n"
     ]
    }
   ],
   "source": [
    "print(met_station)"
   ]
  },
  {
   "cell_type": "code",
   "execution_count": 43,
   "metadata": {},
   "outputs": [
    {
     "name": "stdout",
     "output_type": "stream",
     "text": [
      "             Date  Station       Lat      Long Elev  Max T  Min T\n",
      "0      2011-07-10     1027  27.78868  85.89999  884   31.0   20.0\n",
      "1      2011-07-11     1027  27.78868  85.89999  884   34.0   22.0\n",
      "2      2011-07-12     1027  27.78868  85.89999  884   29.0   21.6\n",
      "3      2011-07-13     1027  27.78868  85.89999  884   29.3   20.0\n",
      "4      2011-07-14     1027  27.78868  85.89999  884   32.5   20.6\n",
      "...           ...      ...       ...       ...  ...    ...    ...\n",
      "652019 2015-07-27     1213  26.91295  86.53968  469   29.4   25.5\n",
      "652020 2015-07-28     1213  26.91295  86.53968  469   29.0   23.6\n",
      "652021 2015-07-29     1213  26.91295  86.53968  469   29.8   24.5\n",
      "652022 2015-07-30     1213  26.91295  86.53968  469   28.0   23.2\n",
      "652023 2015-07-31     1213  26.91295  86.53968  469   27.2   23.4\n",
      "\n",
      "[652024 rows x 7 columns]\n"
     ]
    }
   ],
   "source": [
    "new_merged_df = pd.merge(combined_df, met_station, on='index_no', how='left')\n",
    "new_merged_df = new_merged_df[['Date', 'index_no', 'Lat', 'Lon', 'Elev', 'max_temp', 'min_temp']]\n",
    "\n",
    "\n",
    "# Renaming multiple columns at once\n",
    "new_merged_df.rename(columns={\n",
    "    'index_no': 'Station', \n",
    "    'max_temp': 'Max T',\n",
    "    'min_temp': 'Min T',\n",
    "    'Lat': 'Lat',\n",
    "    'Lon': 'Long'\n",
    "}, inplace=True)\n",
    "# Display the merged DataFrame\n",
    "print(new_merged_df)"
   ]
  },
  {
   "cell_type": "code",
   "execution_count": 44,
   "metadata": {},
   "outputs": [],
   "source": [
    "new_merged_df.to_csv(r'G:\\fresh_start\\paper\\code_paper\\main_data\\raw_data\\raw_data_from_tirtha_sir.csv')"
   ]
  },
  {
   "cell_type": "code",
   "execution_count": 3,
   "metadata": {},
   "outputs": [],
   "source": [
    "raw_data_from_tirtha_sir = pd.read_csv(r'G:\\fresh_start\\paper\\code_paper\\main_data\\raw_data\\raw_data_from_tirtha_sir.csv')"
   ]
  },
  {
   "cell_type": "code",
   "execution_count": 10,
   "metadata": {},
   "outputs": [
    {
     "name": "stdout",
     "output_type": "stream",
     "text": [
      "        Unnamed: 0        Date  Station       Lat      Long  Elev  Max T  \\\n",
      "0                0  2011-07-10     1027  27.78868  85.89999   884   31.0   \n",
      "1                1  2011-07-11     1027  27.78868  85.89999   884   34.0   \n",
      "2                2  2011-07-12     1027  27.78868  85.89999   884   29.0   \n",
      "3                3  2011-07-13     1027  27.78868  85.89999   884   29.3   \n",
      "4                4  2011-07-14     1027  27.78868  85.89999   884   32.5   \n",
      "...            ...         ...      ...       ...       ...   ...    ...   \n",
      "652019      652019  2015-07-27     1213  26.91295  86.53968   469   29.4   \n",
      "652020      652020  2015-07-28     1213  26.91295  86.53968   469   29.0   \n",
      "652021      652021  2015-07-29     1213  26.91295  86.53968   469   29.8   \n",
      "652022      652022  2015-07-30     1213  26.91295  86.53968   469   28.0   \n",
      "652023      652023  2015-07-31     1213  26.91295  86.53968   469   27.2   \n",
      "\n",
      "        Min T  \n",
      "0        20.0  \n",
      "1        22.0  \n",
      "2        21.6  \n",
      "3        20.0  \n",
      "4        20.6  \n",
      "...       ...  \n",
      "652019   25.5  \n",
      "652020   23.6  \n",
      "652021   24.5  \n",
      "652022   23.2  \n",
      "652023   23.4  \n",
      "\n",
      "[652024 rows x 8 columns]\n"
     ]
    }
   ],
   "source": [
    "print(raw_data_from_tirtha_sir)"
   ]
  },
  {
   "cell_type": "code",
   "execution_count": 12,
   "metadata": {},
   "outputs": [
    {
     "name": "stdout",
     "output_type": "stream",
     "text": [
      "[1027 1052  914  927  918 1071 1059 1102 1009  905 1005 1024 1055 1038\n",
      "  922 1022 1114  906 1122 1111 1103 1124 1007 1121 1030 1014 1011 1073\n",
      " 1029 1021 1010 1123 1118 1043 1004 1072 1036 1039 1057  911  902 1019\n",
      " 1062 1016  909 1107 1083 1080 1001 1003 1204 1418 1310 1209 1319 1303\n",
      " 1412 1316 1220 1408 1307 1311 1323 1222 1421 1227 1410 1407 1417 1416\n",
      " 1422 1327 1215 1201 1301 1206 1401 1304 1212 1419 1223 1219 1216 1411\n",
      " 1225 1405 1404 1320 1218 1314 1213]\n",
      "        Unnamed: 0        Date  Station       Lat      Long  Elev  Max T  \\\n",
      "421656      421656  2014-04-01     1316  26.82044  87.15917   105   34.5   \n",
      "421657      421657  2014-04-02     1316  26.82044  87.15917   105   34.7   \n",
      "421658      421658  2014-04-03     1316  26.82044  87.15917   105   35.3   \n",
      "421659      421659  2014-04-04     1316  26.82044  87.15917   105   33.0   \n",
      "421660      421660  2014-04-05     1316  26.82044  87.15917   105   31.5   \n",
      "...            ...         ...      ...       ...       ...   ...    ...   \n",
      "636741      636741  1979-08-26     1218  27.83333  86.76667  3857   15.8   \n",
      "636742      636742  1979-08-27     1218  27.83333  86.76667  3857   11.0   \n",
      "636743      636743  1979-08-28     1218  27.83333  86.76667  3857   11.8   \n",
      "636744      636744  1979-08-29     1218  27.83333  86.76667  3857   15.4   \n",
      "636745      636745  1979-08-30     1218  27.83333  86.76667  3857   12.7   \n",
      "\n",
      "        Min T  \n",
      "421656   13.5  \n",
      "421657   15.0  \n",
      "421658   15.5  \n",
      "421659   20.5  \n",
      "421660   19.0  \n",
      "...       ...  \n",
      "636741    5.7  \n",
      "636742    6.2  \n",
      "636743    5.7  \n",
      "636744    6.8  \n",
      "636745    5.9  \n",
      "\n",
      "[15084 rows x 8 columns]\n"
     ]
    }
   ],
   "source": [
    "\n",
    "\n",
    "available_stations = raw_data_from_tirtha_sir['Station'].unique()\n",
    "print(available_stations)\n",
    "required_stations = [1201, 1401, 1225, 1218, 1316]\n",
    "\n",
    "# Filter the DataFrame to keep only rows with stations in the required_stations list\n",
    "filtered_df = raw_data_from_tirtha_sir[raw_data_from_tirtha_sir['Station'].isin(required_stations)]\n",
    "\n",
    "# Display the filtered DataFrame\n",
    "print(filtered_df)\n"
   ]
  },
  {
   "cell_type": "code",
   "execution_count": 13,
   "metadata": {},
   "outputs": [
    {
     "name": "stdout",
     "output_type": "stream",
     "text": [
      "        Unnamed: 0        Date  Station       Lat      Long  Elev  Max T  \\\n",
      "421656      421656  2014-04-01     1316  26.82044  87.15917   105   34.5   \n",
      "421657      421657  2014-04-02     1316  26.82044  87.15917   105   34.7   \n",
      "421658      421658  2014-04-03     1316  26.82044  87.15917   105   35.3   \n",
      "421659      421659  2014-04-04     1316  26.82044  87.15917   105   33.0   \n",
      "421660      421660  2014-04-05     1316  26.82044  87.15917   105   31.5   \n",
      "...            ...         ...      ...       ...       ...   ...    ...   \n",
      "636741      636741  1979-08-26     1218  27.83333  86.76667  3857   15.8   \n",
      "636742      636742  1979-08-27     1218  27.83333  86.76667  3857   11.0   \n",
      "636743      636743  1979-08-28     1218  27.83333  86.76667  3857   11.8   \n",
      "636744      636744  1979-08-29     1218  27.83333  86.76667  3857   15.4   \n",
      "636745      636745  1979-08-30     1218  27.83333  86.76667  3857   12.7   \n",
      "\n",
      "        Min T  \n",
      "421656   13.5  \n",
      "421657   15.0  \n",
      "421658   15.5  \n",
      "421659   20.5  \n",
      "421660   19.0  \n",
      "...       ...  \n",
      "636741    5.7  \n",
      "636742    6.2  \n",
      "636743    5.7  \n",
      "636744    6.8  \n",
      "636745    5.9  \n",
      "\n",
      "[15084 rows x 8 columns]\n"
     ]
    }
   ],
   "source": [
    "# Group by 'Station' and filter only the required stations\n",
    "grouped_df = raw_data_from_tirtha_sir.groupby('Station').filter(lambda x: x.name in required_stations)\n",
    "\n",
    "# Display the grouped and filtered DataFrame\n",
    "print(grouped_df)"
   ]
  },
  {
   "cell_type": "code",
   "execution_count": 15,
   "metadata": {},
   "outputs": [],
   "source": [
    "filtered_df = filtered_df.drop(columns=['Unnamed: 0'])\n",
    "filtered_df.to_csv(r'G:\\fresh_start\\paper\\code_paper\\main_data\\raw_data\\raw_filtered_data_from_tirtha_sir.csv')"
   ]
  },
  {
   "cell_type": "code",
   "execution_count": null,
   "metadata": {},
   "outputs": [],
   "source": []
  }
 ],
 "metadata": {
  "kernelspec": {
   "display_name": "article_env",
   "language": "python",
   "name": "python3"
  },
  "language_info": {
   "codemirror_mode": {
    "name": "ipython",
    "version": 3
   },
   "file_extension": ".py",
   "mimetype": "text/x-python",
   "name": "python",
   "nbconvert_exporter": "python",
   "pygments_lexer": "ipython3",
   "version": "3.12.5"
  }
 },
 "nbformat": 4,
 "nbformat_minor": 2
}
