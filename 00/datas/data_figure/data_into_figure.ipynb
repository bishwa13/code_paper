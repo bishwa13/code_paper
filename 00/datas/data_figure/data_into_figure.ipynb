{
 "cells": [
  {
   "cell_type": "code",
   "execution_count": 21,
   "metadata": {},
   "outputs": [
    {
     "name": "stdout",
     "output_type": "stream",
     "text": [
      "Plots saved in the 'G:\\fresh_start\\paper\\code_paper\\00\\datas\\climate_plots' folder.\n"
     ]
    }
   ],
   "source": [
    "import pandas as pd\n",
    "import os\n",
    "import numpy as np\n",
    "import matplotlib.pyplot as plt\n",
    "from sklearn.linear_model import LinearRegression\n",
    "from sklearn.metrics import r2_score\n",
    "\n",
    "# --- 1. Data Loading and Preparation ---\n",
    "data_file = r'G:\\fresh_start\\paper\\code_paper\\00\\datas\\excel\\climate change trend.xlsx'\n",
    "try:\n",
    "    df = pd.read_excel(data_file)\n",
    "except FileNotFoundError:\n",
    "    print(f\"Error: Excel file not found at '{data_file}'. Please check the file path.\")\n",
    "    exit()\n",
    "\n",
    "years = df['Year']\n",
    "rainfall = df['Accumulated Rainfall']\n",
    "temperature = df['Temperature']\n",
    "sunshine = df['Sunshine']\n",
    "\n",
    "# --- 2. Output Folder Setup ---\n",
    "output_folder = r\"G:\\fresh_start\\paper\\code_paper\\00\\datas\\climate_plots\"\n",
    "if not os.path.exists(output_folder):\n",
    "    os.makedirs(output_folder)\n",
    "\n",
    "# --- 3. Plotting Function ---\n",
    "def create_trend_plot(x, y, x_label, y_label, title, filename, color='black'):\n",
    "    \"\"\"Creates a trend plot with linear regression and saves it.\"\"\"\n",
    "    plt.figure(figsize=(10, 6))\n",
    "    plt.plot(x, y, marker='o', color=color, label='Data')\n",
    "\n",
    "    slope, intercept, r_value, p_value, std_err = stats.linregress(x, y)\n",
    "    plt.plot(x, slope * x + intercept, '--', color=color,\n",
    "         label=f'Trend (y={slope:.4f}x {intercept:+.4f}, R²={r_value**2:.4f})')\n",
    "\n",
    "    plt.xlabel(x_label)\n",
    "    plt.ylabel(y_label)\n",
    "    plt.title(title)\n",
    "    plt.legend()\n",
    "    plt.grid(True)\n",
    "    plt.xticks(x, rotation=45, ha='right')\n",
    "    plt.tight_layout()\n",
    "\n",
    "    # Add regression equation and R-squared to the plot\n",
    "    # Correct equation formatting to avoid \"+ -\" issue\n",
    "    if intercept >= 0:\n",
    "        equation = f\"y = {slope:.4f}x + {intercept:.4f}\"\n",
    "    else:\n",
    "        equation = f\"y = {slope:.4f}x - {abs(intercept):.4f}\"\n",
    "    r_squared = f'R² = {r_value**2:.4f}'\n",
    "    \n",
    "\n",
    "    plt.savefig(os.path.join(output_folder, filename))\n",
    "    plt.close()\n",
    "\n",
    "# --- 4. Generate Plots ---\n",
    "create_trend_plot(years, rainfall, 'Year', 'Accumulated Rainfall (mm)',\n",
    "                   'Rainfall Trend (1990-2021)', 'trend_accumulated_rainfall.png')\n",
    "\n",
    "create_trend_plot(years, temperature, 'Year', 'Temperature (°C)',\n",
    "                   'Temperature Trend (1990-2021)', 'trend_avg_temp.png')\n",
    "\n",
    "create_trend_plot(years, sunshine, 'Year', 'Sunshine (Hours)',\n",
    "                   'Sunshine Trend (1990-2021)', 'trend_avg_sunshine_hour.png')\n",
    "\n",
    "print(f\"Plots saved in the '{output_folder}' folder.\")\n"
   ]
  }
 ],
 "metadata": {
  "kernelspec": {
   "display_name": "code_paper",
   "language": "python",
   "name": "python3"
  },
  "language_info": {
   "codemirror_mode": {
    "name": "ipython",
    "version": 3
   },
   "file_extension": ".py",
   "mimetype": "text/x-python",
   "name": "python",
   "nbconvert_exporter": "python",
   "pygments_lexer": "ipython3",
   "version": "3.13.2"
  }
 },
 "nbformat": 4,
 "nbformat_minor": 2
}
